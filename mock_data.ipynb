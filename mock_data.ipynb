{
 "cells": [
  {
   "cell_type": "markdown",
   "id": "144c8475-c292-4366-abaf-1226d1619b76",
   "metadata": {},
   "source": [
    "# Mock data\n",
    "This notebook prepares some mock data to be used in the GUI demonstrator>"
   ]
  },
  {
   "cell_type": "code",
   "execution_count": 3,
   "id": "b515c921-fe71-42d8-bdc2-c7523c359d0a",
   "metadata": {},
   "outputs": [],
   "source": [
    "from schemas.data_schemas import BatterySpecs, BatteryComposition, BatteryCapacity, BatteryMetadata, BatterySample\n",
    "import datetime\n",
    "import json, random\n",
    "import pandas as pd\n",
    "import numpy as np\n",
    "import names"
   ]
  },
  {
   "cell_type": "code",
   "execution_count": 4,
   "id": "93b36708-6be8-41b1-b27c-6099cbee0ed2",
   "metadata": {},
   "outputs": [
    {
     "data": {
      "text/html": [
       "<div>\n",
       "<style scoped>\n",
       "    .dataframe tbody tr th:only-of-type {\n",
       "        vertical-align: middle;\n",
       "    }\n",
       "\n",
       "    .dataframe tbody tr th {\n",
       "        vertical-align: top;\n",
       "    }\n",
       "\n",
       "    .dataframe thead th {\n",
       "        text-align: right;\n",
       "    }\n",
       "</style>\n",
       "<table border=\"1\" class=\"dataframe\">\n",
       "  <thead>\n",
       "    <tr style=\"text-align: right;\">\n",
       "      <th></th>\n",
       "      <th>manufacturer</th>\n",
       "      <th>composition.description</th>\n",
       "      <th>capacity.nominal</th>\n",
       "      <th>capacity.units</th>\n",
       "      <th>form_factor</th>\n",
       "    </tr>\n",
       "  </thead>\n",
       "  <tbody>\n",
       "    <tr>\n",
       "      <th>0</th>\n",
       "      <td>BIG-MAP</td>\n",
       "      <td>C | LP57 | NMC811</td>\n",
       "      <td>1.539</td>\n",
       "      <td>mAh</td>\n",
       "      <td>2032</td>\n",
       "    </tr>\n",
       "    <tr>\n",
       "      <th>1</th>\n",
       "      <td>BIG-MAP</td>\n",
       "      <td>C | LP57 | LNO</td>\n",
       "      <td>1.539</td>\n",
       "      <td>mAh</td>\n",
       "      <td>2032</td>\n",
       "    </tr>\n",
       "    <tr>\n",
       "      <th>2</th>\n",
       "      <td>BIG-MAP</td>\n",
       "      <td>Si-C | LP57 | NMC811</td>\n",
       "      <td>1.539</td>\n",
       "      <td>mAh</td>\n",
       "      <td>2032</td>\n",
       "    </tr>\n",
       "    <tr>\n",
       "      <th>3</th>\n",
       "      <td>BIG-MAP</td>\n",
       "      <td>Si-C | LNMO | NMC622</td>\n",
       "      <td>1.539</td>\n",
       "      <td>mAh</td>\n",
       "      <td>2032</td>\n",
       "    </tr>\n",
       "    <tr>\n",
       "      <th>4</th>\n",
       "      <td>BIG-MAP</td>\n",
       "      <td>C | LP57 | NMC811</td>\n",
       "      <td>4.618</td>\n",
       "      <td>mAh</td>\n",
       "      <td>2032</td>\n",
       "    </tr>\n",
       "    <tr>\n",
       "      <th>5</th>\n",
       "      <td>BIG-MAP</td>\n",
       "      <td>C | LP57 | LNO</td>\n",
       "      <td>4.618</td>\n",
       "      <td>mAh</td>\n",
       "      <td>2032</td>\n",
       "    </tr>\n",
       "    <tr>\n",
       "      <th>6</th>\n",
       "      <td>BIG-MAP</td>\n",
       "      <td>Si-C | LP57 | NMC811</td>\n",
       "      <td>4.618</td>\n",
       "      <td>mAh</td>\n",
       "      <td>2032</td>\n",
       "    </tr>\n",
       "    <tr>\n",
       "      <th>7</th>\n",
       "      <td>BIG-MAP</td>\n",
       "      <td>Si-C | LNMO | NMC622</td>\n",
       "      <td>4.618</td>\n",
       "      <td>mAh</td>\n",
       "      <td>2032</td>\n",
       "    </tr>\n",
       "    <tr>\n",
       "      <th>8</th>\n",
       "      <td>Conrad energy</td>\n",
       "      <td>Li-based</td>\n",
       "      <td>45</td>\n",
       "      <td>mAh</td>\n",
       "      <td>2032</td>\n",
       "    </tr>\n",
       "    <tr>\n",
       "      <th>9</th>\n",
       "      <td>Conrad energy</td>\n",
       "      <td>Li-based</td>\n",
       "      <td>60</td>\n",
       "      <td>mAh</td>\n",
       "      <td>2032</td>\n",
       "    </tr>\n",
       "    <tr>\n",
       "      <th>10</th>\n",
       "      <td>Maxell</td>\n",
       "      <td>LiMgO2-based</td>\n",
       "      <td>60</td>\n",
       "      <td>mAh</td>\n",
       "      <td>2016</td>\n",
       "    </tr>\n",
       "  </tbody>\n",
       "</table>\n",
       "</div>"
      ],
      "text/plain": [
       "     manufacturer composition.description capacity.nominal capacity.units  \\\n",
       "0         BIG-MAP       C | LP57 | NMC811            1.539            mAh   \n",
       "1         BIG-MAP          C | LP57 | LNO            1.539            mAh   \n",
       "2         BIG-MAP    Si-C | LP57 | NMC811            1.539            mAh   \n",
       "3         BIG-MAP    Si-C | LNMO | NMC622            1.539            mAh   \n",
       "4         BIG-MAP       C | LP57 | NMC811            4.618            mAh   \n",
       "5         BIG-MAP          C | LP57 | LNO            4.618            mAh   \n",
       "6         BIG-MAP    Si-C | LP57 | NMC811            4.618            mAh   \n",
       "7         BIG-MAP    Si-C | LNMO | NMC622            4.618            mAh   \n",
       "8   Conrad energy                Li-based               45            mAh   \n",
       "9   Conrad energy                Li-based               60            mAh   \n",
       "10         Maxell            LiMgO2-based               60            mAh   \n",
       "\n",
       "   form_factor  \n",
       "0         2032  \n",
       "1         2032  \n",
       "2         2032  \n",
       "3         2032  \n",
       "4         2032  \n",
       "5         2032  \n",
       "6         2032  \n",
       "7         2032  \n",
       "8         2032  \n",
       "9         2032  \n",
       "10        2016  "
      ]
     },
     "execution_count": 4,
     "metadata": {},
     "output_type": "execute_result"
    }
   ],
   "source": [
    "STD_SPECS = pd.read_csv('sample_specs.csv', dtype=str)\n",
    "STD_SPECS"
   ]
  },
  {
   "cell_type": "code",
   "execution_count": 9,
   "id": "d8670c10-92d6-4ec1-898c-2b751a68aaa3",
   "metadata": {
    "tags": []
   },
   "outputs": [
    {
     "data": {
      "text/plain": [
       "Index(['manufacturer', 'composition.description', 'capacity.nominal',\n",
       "       'capacity.units', 'form_factor'],\n",
       "      dtype='object')"
      ]
     },
     "execution_count": 9,
     "metadata": {},
     "output_type": "execute_result"
    }
   ],
   "source": [
    "STD_SPECS.keys()"
   ]
  },
  {
   "cell_type": "code",
   "execution_count": 10,
   "id": "1dad573d-c96b-4d5d-9ca2-6504eba57a84",
   "metadata": {},
   "outputs": [
    {
     "name": "stdout",
     "output_type": "stream",
     "text": [
      "manufacturer  :  ['BIG-MAP', 'Conrad energy', 'Maxell']\n",
      "composition.description:  ['C | LP57 | NMC811', 'C | LP57 | LNO', 'Si-C | LP57 | NMC811', 'Si-C | LNMO | NMC622', 'Li-based', 'LiMgO2-based']\n",
      "capacity.nominal:  ['1.539', '4.618', '45', '60']\n",
      "capacity.units:  ['mAh']\n",
      "form_factor   :  ['2032', '2016']\n"
     ]
    }
   ],
   "source": [
    "for key in STD_SPECS.keys():\n",
    "    print(f'{key:14}:  {STD_SPECS.get(key).unique().tolist()}')"
   ]
  },
  {
   "cell_type": "code",
   "execution_count": 6,
   "id": "bbc3af0e-a81e-4c8e-9411-0ba721d5dadd",
   "metadata": {},
   "outputs": [],
   "source": [
    "def random_datetime(\n",
    "        start=datetime.datetime(2020, 1, 1, 0, 0, 0, tzinfo=datetime.timezone.utc),\n",
    "        end=datetime.datetime.now(tz=datetime.timezone.utc)):\n",
    "    \"\"\"Generate a random datetime between `start` and `end`\"\"\"\n",
    "    return start + datetime.timedelta(\n",
    "        # Get a random amount of seconds between `start` and `end`\n",
    "        seconds=random.randint(0, int((end - start).total_seconds())))"
   ]
  },
  {
   "cell_type": "code",
   "execution_count": 11,
   "id": "79deea69-7a4d-432d-9359-35d63c303c15",
   "metadata": {},
   "outputs": [],
   "source": [
    "def create_random_sample():\n",
    "    # pick one of the available specs\n",
    "    random_spec = STD_SPECS.sample().iloc[0]\n",
    "    battery_id = random.randint(0, 1000)\n",
    "    sample = BatterySample(\n",
    "        manufacturer = random_spec.manufacturer,\n",
    "        composition = BatteryComposition(description=random_spec.get('composition.description')),\n",
    "        form_factor = random_spec.form_factor,\n",
    "        capacity = BatteryCapacity(nominal=float(random_spec.get('capacity.nominal')), units=random_spec.get('capacity.units')),\n",
    "        metadata = BatteryMetadata(\n",
    "            creation_datetime=random_datetime(),\n",
    "            creation_process='Lorem ipsum dolor sit amet, consectetur adipiscing elit. Sed mollis arcu ac risus vestibulum, ac commodo nunc euismod. Vivamus suscipit eros nec justo faucibus, et eleifend diam eleifend.'\n",
    "        ),\n",
    "        battery_id = battery_id,\n",
    "        name = f'{names.get_first_name()}_{battery_id}'\n",
    "    )\n",
    "    return sample"
   ]
  },
  {
   "cell_type": "markdown",
   "id": "46bb6edb-3913-4275-8a0f-188fdaa843a5",
   "metadata": {},
   "source": [
    "Now we generate 20 random samples and save the to a JSON file."
   ]
  },
  {
   "cell_type": "code",
   "execution_count": 12,
   "id": "b797b8cd-2265-41f9-92ad-8f4278a5a711",
   "metadata": {},
   "outputs": [],
   "source": [
    "samples = [create_random_sample() for _ in range(40)]\n",
    "samples = sorted(samples, key=lambda s: s.battery_id)"
   ]
  },
  {
   "cell_type": "code",
   "execution_count": 13,
   "id": "d8c0f110-9bc6-4b46-ab4f-945e59c8f7f0",
   "metadata": {},
   "outputs": [],
   "source": [
    "class BatterySampleEncoder(json.JSONEncoder):\n",
    "        def default(self, obj):\n",
    "            if isinstance(obj, datetime.datetime):\n",
    "                return obj.isoformat()\n",
    "            else:\n",
    "                super().default(obj)\n",
    "\n",
    "json.dump([s.dict() for s in samples], open('available_samples.json', 'w'), cls=BatterySampleEncoder)\n",
    "json.dump({s.battery_id: s.dict() for s in samples}, open('available_samples_id.json', 'w'), cls=BatterySampleEncoder)"
   ]
  },
  {
   "cell_type": "code",
   "execution_count": 14,
   "id": "ea0c38af-7d1d-4fa1-8955-0458e772b4a2",
   "metadata": {},
   "outputs": [
    {
     "data": {
      "text/plain": [
       "[40,\n",
       " 74,\n",
       " 97,\n",
       " 107,\n",
       " 116,\n",
       " 124,\n",
       " 143,\n",
       " 161,\n",
       " 170,\n",
       " 254,\n",
       " 278,\n",
       " 282,\n",
       " 314,\n",
       " 363,\n",
       " 413,\n",
       " 419,\n",
       " 480,\n",
       " 495,\n",
       " 506,\n",
       " 522,\n",
       " 565,\n",
       " 613,\n",
       " 675,\n",
       " 677,\n",
       " 706,\n",
       " 717,\n",
       " 741,\n",
       " 763,\n",
       " 779,\n",
       " 847,\n",
       " 867,\n",
       " 883,\n",
       " 899,\n",
       " 914,\n",
       " 920,\n",
       " 941,\n",
       " 949,\n",
       " 960,\n",
       " 983,\n",
       " 997]"
      ]
     },
     "execution_count": 14,
     "metadata": {},
     "output_type": "execute_result"
    }
   ],
   "source": [
    "[s.battery_id for s in samples]"
   ]
  },
  {
   "cell_type": "markdown",
   "id": "f757a7b1-412d-43dd-a461-352e5a2c9993",
   "metadata": {},
   "source": [
    "Reload"
   ]
  },
  {
   "cell_type": "code",
   "execution_count": 15,
   "id": "83b9e598-6578-425e-8c69-f985a877f83e",
   "metadata": {},
   "outputs": [],
   "source": [
    "data = json.load(open('available_samples.json', 'r'))\n",
    "new_samples = [BatterySample.parse_obj(dic) for dic in data]"
   ]
  },
  {
   "cell_type": "code",
   "execution_count": 16,
   "id": "8475217b-bc41-4317-be2f-7680c98a27a5",
   "metadata": {},
   "outputs": [
    {
     "data": {
      "text/plain": [
       "BatterySample(manufacturer='BIG-MAP', composition=BatteryComposition(description='C | LP57 | NMC811', cathode='C', anode='NMC811', electrolyte='LP57'), form_factor='2032', capacity=BatteryCapacity(nominal=4.618, actual=None, units='mAh'), metadata=BatteryMetadata(creation_datetime=datetime.datetime(2022, 2, 25, 8, 13, 50, tzinfo=datetime.timezone.utc), creation_process='Lorem ipsum dolor sit amet, consectetur adipiscing elit. Sed mollis arcu ac risus vestibulum, ac commodo nunc euismod. Vivamus suscipit eros nec justo faucibus, et eleifend diam eleifend.'), battery_id=40, name='Floyd_40')"
      ]
     },
     "execution_count": 16,
     "metadata": {},
     "output_type": "execute_result"
    }
   ],
   "source": [
    "s = new_samples[0]\n",
    "s"
   ]
  },
  {
   "cell_type": "code",
   "execution_count": null,
   "id": "f72f2234-7e87-440e-8273-d397ae6e99d7",
   "metadata": {},
   "outputs": [],
   "source": []
  }
 ],
 "metadata": {
  "kernelspec": {
   "display_name": "Python 3 (ipykernel)",
   "language": "python",
   "name": "python3"
  },
  "language_info": {
   "codemirror_mode": {
    "name": "ipython",
    "version": 3
   },
   "file_extension": ".py",
   "mimetype": "text/x-python",
   "name": "python",
   "nbconvert_exporter": "python",
   "pygments_lexer": "ipython3",
   "version": "3.8.10"
  }
 },
 "nbformat": 4,
 "nbformat_minor": 5
}
