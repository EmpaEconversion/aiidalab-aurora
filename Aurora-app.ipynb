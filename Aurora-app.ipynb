{
 "cells": [
  {
   "cell_type": "code",
   "execution_count": 4,
   "id": "a09fe8cd-1389-4d3d-8409-71c3dadc891e",
   "metadata": {},
   "outputs": [
    {
     "data": {
      "application/javascript": [
       "IPython.OutputArea.prototype._should_scroll = function(lines) {\n",
       "    return false;\n",
       "}\n",
       "document.title='Aurora app'\n"
      ],
      "text/plain": [
       "<IPython.core.display.Javascript object>"
      ]
     },
     "metadata": {},
     "output_type": "display_data"
    }
   ],
   "source": [
    "%%javascript\n",
    "IPython.OutputArea.prototype._should_scroll = function(lines) {\n",
    "    return false;\n",
    "}\n",
    "document.title='Aurora app'"
   ]
  },
  {
   "cell_type": "code",
   "execution_count": 5,
   "id": "3a15d928-3884-4603-8fc8-57bb65d52ace",
   "metadata": {},
   "outputs": [],
   "source": [
    "import ipywidgets as ipw\n",
    "from IPython.display import display\n",
    "import numpy as np\n",
    "import pandas as pd\n",
    "from collections import OrderedDict\n",
    "import json\n",
    "import aurora\n",
    "# import schemas.data_schemas\n",
    "# from schemas.data_schemas import BatterySpecs, BatteryComposition, BatteryCapacity, BatteryMetadata, BatterySample, BatterySpecsJsonTypes, BatterySampleJsonTypes\n",
    "\n",
    "import matplotlib.pyplot as plt\n",
    "%matplotlib widget"
   ]
  },
  {
   "cell_type": "code",
   "execution_count": 6,
   "id": "a938a8c7-bff3-4df0-8ca8-1a5b56fc3aac",
   "metadata": {},
   "outputs": [],
   "source": [
    "from aurora.interface.main import MainPanel"
   ]
  },
  {
   "cell_type": "code",
   "execution_count": 7,
   "id": "9595acff-0181-4b25-ab62-4fd4b46a202c",
   "metadata": {},
   "outputs": [
    {
     "data": {
      "application/vnd.jupyter.widget-view+json": {
       "model_id": "6f8aa60dab4342f8ab473de085957797",
       "version_major": 2,
       "version_minor": 0
      },
      "text/plain": [
       "MainPanel(children=(HTML(value='<h2>Aurora</h2>'), Accordion(children=(Tab(children=(SampleFromId(children=(HT…"
      ]
     },
     "metadata": {},
     "output_type": "display_data"
    }
   ],
   "source": [
    "w_main = MainPanel()\n",
    "display(w_main)"
   ]
  },
  {
   "cell_type": "markdown",
   "id": "7f5f3983-6e08-4daa-9b88-35b86368e4de",
   "metadata": {},
   "source": [
    "***AURORA* Autonomous Robotic Battery Innovation Platform**  BIG-MAP Stakeholder Initiative 2021\n",
    "\n",
    "<table style=\"width: 40%; border-collapse: collapse; border-style: hidden; float: left;\">\n",
    "<tbody>\n",
    "<tr>\n",
    "<td style=\"width: 15%;\"><img src=\"aurora/images/BIG-MAP_logo.png\" alt=\"BIG-MAP\" style=\"margin: 2px\"/></td>\n",
    "<td style=\"width: 15%;\"><img src=\"aurora/images/Battery2030_logo.png\" alt=\"Battery 2030+\" style=\"margin: 2px\"/></td>\n",
    "<td style=\"width: 15%;\"><img src=\"aurora/images/EU_logo.png\" alt=\"European Commision\" style=\" margin: 2px\"/></td>\n",
    "<td style=\"width: 30%;\"><img src=\"aurora/images/Empa_logo.png\" alt=\"Empa\" style=\"margin: 2px\"/></td>\n",
    "<td style=\"width: 25%;\"><img src=\"aurora/images/EPFL_logo.png\" alt=\"EPFL\" style=\"margin: 2px\"/></td>\n",
    "</tr>\n",
    "</tbody>\n",
    "</table>\n"
   ]
  }
 ],
 "metadata": {
  "kernelspec": {
   "display_name": "Python 3 (ipykernel)",
   "language": "python",
   "name": "python3"
  },
  "language_info": {
   "codemirror_mode": {
    "name": "ipython",
    "version": 3
   },
   "file_extension": ".py",
   "mimetype": "text/x-python",
   "name": "python",
   "nbconvert_exporter": "python",
   "pygments_lexer": "ipython3",
   "version": "3.9.5"
  }
 },
 "nbformat": 4,
 "nbformat_minor": 5
}
