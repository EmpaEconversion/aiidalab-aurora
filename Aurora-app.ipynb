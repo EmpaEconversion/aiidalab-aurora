{
 "cells": [
  {
   "cell_type": "code",
   "execution_count": 1,
   "id": "3a15d928-3884-4603-8fc8-57bb65d52ace",
   "metadata": {},
   "outputs": [],
   "source": [
    "import ipywidgets as ipw\n",
    "import ipydatetime, datetime\n",
    "from IPython.display import display\n",
    "import numpy as np\n",
    "import pandas as pd\n",
    "from collections import OrderedDict\n",
    "import json\n",
    "import aurora\n",
    "# import schemas.data_schemas\n",
    "# from schemas.data_schemas import BatterySpecs, BatteryComposition, BatteryCapacity, BatteryMetadata, BatterySample, BatterySpecsJsonTypes, BatterySampleJsonTypes\n",
    "\n",
    "import matplotlib.pyplot as plt\n",
    "%matplotlib widget"
   ]
  },
  {
   "cell_type": "code",
   "execution_count": 2,
   "id": "a938a8c7-bff3-4df0-8ca8-1a5b56fc3aac",
   "metadata": {},
   "outputs": [],
   "source": [
    "from aurora.interface.main import MainPanel"
   ]
  },
  {
   "cell_type": "code",
   "execution_count": 3,
   "id": "9595acff-0181-4b25-ab62-4fd4b46a202c",
   "metadata": {},
   "outputs": [
    {
     "data": {
      "application/vnd.jupyter.widget-view+json": {
       "model_id": "363770e0de6244dda3f2b037311d02cd",
       "version_major": 2,
       "version_minor": 0
      },
      "text/plain": [
       "MainPanel(children=(HTML(value='<h1>Aurora</h1>'), Accordion(children=(Tab(children=(SampleFromId(children=(Se…"
      ]
     },
     "metadata": {},
     "output_type": "display_data"
    }
   ],
   "source": [
    "w_main = MainPanel()\n",
    "display(w_main)"
   ]
  },
  {
   "cell_type": "markdown",
   "id": "7f5f3983-6e08-4daa-9b88-35b86368e4de",
   "metadata": {},
   "source": [
    "**Acknowledgements**"
   ]
  },
  {
   "cell_type": "code",
   "execution_count": null,
   "id": "37a53328-2daa-4806-bfd2-e9d8855da23a",
   "metadata": {},
   "outputs": [],
   "source": []
  }
 ],
 "metadata": {
  "kernelspec": {
   "display_name": "Python 3 (ipykernel)",
   "language": "python",
   "name": "python3"
  },
  "language_info": {
   "codemirror_mode": {
    "name": "ipython",
    "version": 3
   },
   "file_extension": ".py",
   "mimetype": "text/x-python",
   "name": "python",
   "nbconvert_exporter": "python",
   "pygments_lexer": "ipython3",
   "version": "3.8.10"
  }
 },
 "nbformat": 4,
 "nbformat_minor": 5
}
