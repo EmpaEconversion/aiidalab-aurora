{
 "cells": [
  {
   "cell_type": "code",
   "execution_count": null,
   "id": "a09fe8cd-1389-4d3d-8409-71c3dadc891e",
   "metadata": {},
   "outputs": [],
   "source": [
    "%%javascript\n",
    "IPython.OutputArea.prototype._should_scroll = function(lines) {\n",
    "    return false;\n",
    "}\n",
    "document.title='Sample Manager'"
   ]
  },
  {
   "cell_type": "code",
   "execution_count": null,
   "id": "3a15d928-3884-4603-8fc8-57bb65d52ace",
   "metadata": {},
   "outputs": [],
   "source": [
    "import ipywidgets as ipw\n",
    "from IPython.display import display\n",
    "import numpy as np\n",
    "import pandas as pd\n",
    "import json\n",
    "import aurora\n",
    "\n",
    "import matplotlib.pyplot as plt\n",
    "%matplotlib widget"
   ]
  },
  {
   "cell_type": "code",
   "execution_count": null,
   "id": "ebb0f23e",
   "metadata": {},
   "outputs": [],
   "source": [
    "from aurora.interface.menus import ManageSamplesMenu"
   ]
  },
  {
   "cell_type": "code",
   "execution_count": null,
   "id": "9595acff-0181-4b25-ab62-4fd4b46a202c",
   "metadata": {},
   "outputs": [],
   "source": [
    "manage_samples_menu = ManageSamplesMenu()\n",
    "display(manage_samples_menu)"
   ]
  },
  {
   "attachments": {},
   "cell_type": "markdown",
   "id": "7f5f3983-6e08-4daa-9b88-35b86368e4de",
   "metadata": {},
   "source": [
    "***AURORA* Autonomous Robotic Battery Innovation Platform**  BIG-MAP Stakeholder Initiative 2021\n",
    "\n",
    "<table style=\"width: 40%; border-collapse: collapse; border-style: hidden; float: left;\">\n",
    "<tbody>\n",
    "<tr>\n",
    "<td style=\"width: 15%;\"><img src=\"img/BIG-MAP_logo.png\" alt=\"BIG-MAP\" style=\"margin: 2px\"/></td>\n",
    "<td style=\"width: 15%;\"><img src=\"img/Battery2030_logo.png\" alt=\"Battery 2030+\" style=\"margin: 2px\"/></td>\n",
    "<td style=\"width: 15%;\"><img src=\"img/EU_logo.png\" alt=\"European Commision\" style=\" margin: 2px\"/></td>\n",
    "<td style=\"width: 30%;\"><img src=\"img/Empa_logo.png\" alt=\"Empa\" style=\"margin: 2px\"/></td>\n",
    "<td style=\"width: 25%;\"><img src=\"img/EPFL_logo.png\" alt=\"EPFL\" style=\"margin: 2px\"/></td>\n",
    "</tr>\n",
    "</tbody>\n",
    "</table>\n"
   ]
  }
 ],
 "metadata": {
  "kernelspec": {
   "display_name": "Python 3 (ipykernel)",
   "language": "python",
   "name": "python3"
  },
  "language_info": {
   "codemirror_mode": {
    "name": "ipython",
    "version": 3
   },
   "file_extension": ".py",
   "mimetype": "text/x-python",
   "name": "python",
   "nbconvert_exporter": "python",
   "pygments_lexer": "ipython3",
   "version": "3.9.5"
  },
  "vscode": {
   "interpreter": {
    "hash": "17c88e46861690d52b34e434e85f0be56292e39f41a35396b131b301eeee09bb"
   }
  }
 },
 "nbformat": 4,
 "nbformat_minor": 5
}
