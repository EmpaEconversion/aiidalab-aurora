{
 "cells": [
  {
   "cell_type": "markdown",
   "id": "d3dd0fd9-191d-470a-a056-0b2370a9f128",
   "metadata": {},
   "source": [
    "# aiida-aurora Plugin Test"
   ]
  },
  {
   "cell_type": "code",
   "execution_count": 1,
   "id": "ecb73775-c8b4-47cd-bb1c-ce851d29acc4",
   "metadata": {},
   "outputs": [],
   "source": [
    "import aiida\n",
    "from aiida import load_profile\n",
    "load_profile('aurora')\n",
    "from aiida.orm import load_node, load_code, load_computer, load_group\n",
    "from aiida.engine import submit"
   ]
  },
  {
   "cell_type": "code",
   "execution_count": 2,
   "id": "12316d66-b25f-4f2e-a801-c520d6099605",
   "metadata": {},
   "outputs": [],
   "source": [
    "import ipywidgets as ipw\n",
    "from IPython.display import display\n",
    "import numpy as np\n",
    "import pandas as pd\n",
    "from collections import OrderedDict\n",
    "import json, yaml, datetime\n",
    "import aurora\n",
    "import aiida_aurora\n",
    "import aiida_aurora.data, aiida_aurora.parsers\n",
    "import aurora.schemas.tomato_0p1\n",
    "# from schemas.data_schemas import BatterySpecs, BatteryComposition, BatteryCapacity, BatteryMetadata, BatterySample, BatterySpecsJsonTypes, BatterySampleJsonTypes\n",
    "from aurora.schemas.data_schemas import BatterySample as BatterySampleSchema, BatteryState as BatteryStateSchema\n",
    "\n",
    "import matplotlib.pyplot as plt\n",
    "%matplotlib widget\n",
    "\n",
    "from aurora.interface.main import MainPanel"
   ]
  },
  {
   "cell_type": "code",
   "execution_count": 3,
   "id": "8c980079-0187-4b8b-a9e9-eee147357b69",
   "metadata": {
    "tags": []
   },
   "outputs": [
    {
     "data": {
      "application/vnd.jupyter.widget-view+json": {
       "model_id": "48bc552b1e0740b6b8b6225a3ec78e59",
       "version_major": 2,
       "version_minor": 0
      },
      "text/plain": [
       "MainPanel(children=(HTML(value='<h2>Aurora</h2>'), Accordion(children=(Tab(children=(SampleFromId(children=(HT…"
      ]
     },
     "metadata": {},
     "output_type": "display_data"
    }
   ],
   "source": [
    "w_main = MainPanel()\n",
    "display(w_main)"
   ]
  },
  {
   "cell_type": "markdown",
   "id": "29be6728-207c-458d-8ca6-5f1192b02576",
   "metadata": {},
   "source": [
    "## TESTS"
   ]
  },
  {
   "cell_type": "markdown",
   "id": "2a6aabec-686b-455e-bc55-45bba5d09c61",
   "metadata": {
    "tags": []
   },
   "source": [
    "#### 1A. Store data from GUI"
   ]
  },
  {
   "cell_type": "code",
   "execution_count": 4,
   "id": "86fea9cf-4827-4896-8836-25b85067f8cf",
   "metadata": {},
   "outputs": [],
   "source": [
    "sample = w_main.selected_battery_sample\n",
    "method = w_main.selected_cycling_protocol"
   ]
  },
  {
   "cell_type": "code",
   "execution_count": 16,
   "id": "15a955bc-9436-4bb8-b91f-07d78f2295ec",
   "metadata": {},
   "outputs": [
    {
     "data": {
      "text/plain": [
       "{'manufacturer': 'Maxell',\n",
       " 'composition': {'description': 'LiMgO2-based'},\n",
       " 'form_factor': '2016',\n",
       " 'capacity': {'nominal': 60.0, 'actual': None, 'units': 'mAh'},\n",
       " 'battery_id': 600,\n",
       " 'metadata': {'name': '600_Maxell_20220320',\n",
       "  'creation_datetime': Timestamp('2022-03-20 01:20:40+0000', tz='UTC'),\n",
       "  'creation_process': 'Lorem ipsum dolor sit amet, consectetur adipiscing elit. Sed mollis arcu ac risus vestibulum, ac commodo nunc euismod. Vivamus suscipit eros nec justo faucibus, et eleifend diam eleifend.'}}"
      ]
     },
     "execution_count": 16,
     "metadata": {},
     "output_type": "execute_result"
    }
   ],
   "source": [
    "sample.dict()"
   ]
  },
  {
   "cell_type": "code",
   "execution_count": 6,
   "id": "7e9d59a9-2598-4f3b-9e16-d238e6ca7826",
   "metadata": {},
   "outputs": [],
   "source": [
    "BatterySampleData = aiida.plugins.DataFactory('aurora.batterysample')\n",
    "CyclingSpecsData = aiida.plugins.DataFactory('aurora.cyclingspecs')"
   ]
  },
  {
   "cell_type": "code",
   "execution_count": 7,
   "id": "f3c5a38a-a1ed-4087-a80b-743634cc17b1",
   "metadata": {},
   "outputs": [
    {
     "data": {
      "text/plain": [
       "<BatterySample: uuid: 0d0ce68b-447a-4103-a122-93e948370fc6 (pk: 2)\n",
       "{'capacity': {'units': 'mAh', 'actual': None, 'nominal': 60.0}, 'metadata': {'name': '600_Maxell_20220320', 'creation_process': 'Lorem ipsum dolor sit amet, consectetur adipiscing elit. Sed mollis arcu ac risus vestibulum, ac commodo nunc euismod. Vivamus suscipit eros nec justo faucibus, et eleifend diam eleifend.', 'creation_datetime': '2022-03-20T01:20:40+00:00'}, 'battery_id': 600, 'composition': {'description': 'LiMgO2-based'}, 'form_factor': '2016', 'manufacturer': 'Maxell'}>"
      ]
     },
     "execution_count": 7,
     "metadata": {},
     "output_type": "execute_result"
    }
   ],
   "source": [
    "sample_node = BatterySample(sample.dict())#, label='cuiao')\n",
    "sample_node.store()"
   ]
  },
  {
   "cell_type": "code",
   "execution_count": 9,
   "id": "009cd97f-4d8c-4b56-a587-e09e60bb4011",
   "metadata": {},
   "outputs": [
    {
     "data": {
      "text/plain": [
       "<CyclingSpecs: uuid: d427abb1-03c6-4a62-8118-4850cb6011bd (pk: 3)\n",
       "{'method': [{'name': 'OCV_1', 'device': 'worker', 'technique': 'open_circuit_voltage', 'parameters': {'time': {'label': 'Time:', 'units': 's', 'value': 60.0, 'required': True, 'description': 'The length of the OCV step', 'default_value': 0.0}, 'E_range': {'label': 'E range', 'units': '', 'value': None, 'required': False, 'description': '', 'default_value': 'auto'}, 'I_range': {'label': 'I range', 'units': '', 'value': None, 'required': False, 'description': '', 'default_value': 'keep'}, 'record_every_dE': {'label': 'Record every $dE$:', 'units': 'V', 'value': None, 'required': False, 'description': 'Record a datapoint at prescribed voltage spacing', 'default_value': 0.005}, 'record_every_dt': {'label': 'Record every $dt$:', 'units': 's', 'value': None, 'required': False, 'description': 'Record a datapoint at prescribed time spacing', 'default_value': 30.0}}, 'short_name': 'OCV', 'description': 'Open circuit voltage'}]}>"
      ]
     },
     "execution_count": 9,
     "metadata": {},
     "output_type": "execute_result"
    }
   ],
   "source": [
    "method_node = CyclingSpecsData(method.dict())\n",
    "method_node.store()"
   ]
  },
  {
   "cell_type": "markdown",
   "id": "6f7766f9-2cd2-493d-9f6a-b4b19575dead",
   "metadata": {
    "tags": []
   },
   "source": [
    "#### 1B. Dummy Data"
   ]
  },
  {
   "cell_type": "code",
   "execution_count": 3,
   "id": "ba596eca-cce3-4c87-9aa6-e5efeb215ccd",
   "metadata": {},
   "outputs": [],
   "source": [
    "sample = BatterySampleSchema(\n",
    "    manufacturer = 'fake',\n",
    "    composition = dict(description='C|E|A'),\n",
    "    form_factor = 'DUMB',\n",
    "    capacity = dict(nominal=1.0, units='Ah'),\n",
    "    battery_id = 666,\n",
    "    metadata = dict(\n",
    "        name = 'fake_sample',\n",
    "        creation_datetime = datetime.datetime.now(tz=datetime.timezone.utc),\n",
    "        creation_process = 'This is a fake battery for testing purposes.'\n",
    "    ))"
   ]
  },
  {
   "cell_type": "code",
   "execution_count": null,
   "id": "7f182b9f-e4ea-49d1-9394-df0ab29060cf",
   "metadata": {},
   "outputs": [],
   "source": [
    "sample_node = aiida_aurora.data.BatterySampleData(sample.dict())\n",
    "sample_node.store()"
   ]
  },
  {
   "cell_type": "code",
   "execution_count": 8,
   "id": "f39e7c7a-a3e6-452f-beb7-1a9c0c010f37",
   "metadata": {},
   "outputs": [],
   "source": [
    "step = aurora.schemas.cycling.Dummy(technique=\"random\")\n",
    "step.parameters['time'].value = 30.0\n",
    "step.parameters['delay'].value = 5.0\n",
    "method = aurora.schemas.cycling.ElectroChemSequence(method=[step])"
   ]
  },
  {
   "cell_type": "code",
   "execution_count": null,
   "id": "79a72659-374d-4c95-b138-a7985face2d2",
   "metadata": {},
   "outputs": [],
   "source": []
  },
  {
   "cell_type": "code",
   "execution_count": 7,
   "id": "3219d519-d0dc-448d-a270-5d50d012093b",
   "metadata": {},
   "outputs": [
    {
     "data": {
      "text/plain": [
       "<CyclingSpecs: uuid: 78e0e63a-974b-47a3-8c7a-b028f7e69a99 (pk: 134)\n",
       "{'method': [{'name': 'Dummy-Sequential', 'device': 'worker', 'technique': 'sequential', 'parameters': {'time': {'label': 'Time:', 'units': 's', 'value': 1800.0, 'required': True, 'description': '', 'default_value': 10.0}, 'delay': {'label': 'Delay:', 'units': 's', 'value': 5.0, 'required': True, 'description': '', 'default_value': 1.0}}, 'short_name': 'DUMMY', 'description': 'Dummy Random worker'}]}>"
      ]
     },
     "execution_count": 7,
     "metadata": {},
     "output_type": "execute_result"
    }
   ],
   "source": [
    "step = aurora.schemas.cycling.Dummy(technique=\"sequential\")\n",
    "step.parameters['time'].value = 1800\n",
    "step.parameters['delay'].value = 5\n",
    "step.name = \"Dummy-Sequential\"\n",
    "method = aurora.schemas.cycling.ElectroChemSequence(method=[step])\n",
    "\n",
    "method_node = aiida_aurora.data.CyclingSpecsData(method.dict())\n",
    "method_node.label = 'dummy-sequential'\n",
    "method_node.store()"
   ]
  },
  {
   "cell_type": "code",
   "execution_count": 7,
   "id": "a3889e4c-0f9f-4ef7-95bc-bc5abac12961",
   "metadata": {},
   "outputs": [
    {
     "data": {
      "text/plain": [
       "<TomatoSettingsData: uuid: 0c28e406-22b7-4588-9de9-c4399d459e62 (pk: 139)\n",
       "{'output': {'path': None, 'prefix': None}, 'snapshot': {'path': None, 'prefix': 'snapshot', 'frequency': 10}, 'verbosity': 'WARNING', 'unlock_when_done': False}>"
      ]
     },
     "execution_count": 7,
     "metadata": {},
     "output_type": "execute_result"
    }
   ],
   "source": [
    "tomato_sett = aurora.schemas.tomato_0p2.Tomato(\n",
    "    snapshot = {'frequency': 10, 'prefix': 'snapshot'})\n",
    "tomato_sett_node = aiida_aurora.data.TomatoSettingsData(tomato_sett.dict())\n",
    "tomato_sett_node.label = 'dummy-snapshot-10'\n",
    "tomato_sett_node.store()"
   ]
  },
  {
   "cell_type": "markdown",
   "id": "7fb96f8f-fed5-44cd-870b-c508bfaa53e0",
   "metadata": {
    "tags": []
   },
   "source": [
    "#### 2. Prepare CalcJob"
   ]
  },
  {
   "cell_type": "code",
   "execution_count": 4,
   "id": "b9e346d2-f417-4b42-ad88-f21e4130a76f",
   "metadata": {},
   "outputs": [],
   "source": [
    "# sample_node = load_node(2)  # '600_Maxell_20220320'\n",
    "# method_node = load_node(3)  # 'ocv-test'\n",
    "\n",
    "sample_node = load_node(31)  # 'fake_sample'\n",
    "# method_node = load_node(32)  # 'dummy-random'\n",
    "method_node = load_node(134)  # 'dummy-sequential'"
   ]
  },
  {
   "cell_type": "code",
   "execution_count": 5,
   "id": "5594c0f7-6fd6-46ec-82d6-6bcb0a8dc516",
   "metadata": {},
   "outputs": [
    {
     "data": {
      "text/plain": [
       "{'capacity': {'units': 'Ah', 'actual': None, 'nominal': 1.0},\n",
       " 'metadata': {'name': 'fake_sample',\n",
       "  'creation_process': 'This is a fake battery for testing purposes.',\n",
       "  'creation_datetime': '2022-07-04T14:09:46.338584+00:00'},\n",
       " 'battery_id': 666,\n",
       " 'composition': {'description': 'C|E|A'},\n",
       " 'form_factor': 'DUMB',\n",
       " 'manufacturer': 'fake'}"
      ]
     },
     "execution_count": 5,
     "metadata": {},
     "output_type": "execute_result"
    }
   ],
   "source": [
    "sample_node.get_dict()"
   ]
  },
  {
   "cell_type": "code",
   "execution_count": 8,
   "id": "e4ad8fe0-7163-417e-b58f-27ab0225d7fc",
   "metadata": {},
   "outputs": [
    {
     "data": {
      "text/plain": [
       "{'method': [{'name': 'Dummy-Sequential',\n",
       "   'device': 'worker',\n",
       "   'technique': 'sequential',\n",
       "   'parameters': {'time': {'label': 'Time:',\n",
       "     'units': 's',\n",
       "     'value': 1800.0,\n",
       "     'required': True,\n",
       "     'description': '',\n",
       "     'default_value': 10.0},\n",
       "    'delay': {'label': 'Delay:',\n",
       "     'units': 's',\n",
       "     'value': 5.0,\n",
       "     'required': True,\n",
       "     'description': '',\n",
       "     'default_value': 1.0}},\n",
       "   'short_name': 'DUMMY',\n",
       "   'description': 'Dummy Random worker'}]}"
      ]
     },
     "execution_count": 8,
     "metadata": {},
     "output_type": "execute_result"
    }
   ],
   "source": [
    "method_node.get_dict()"
   ]
  },
  {
   "cell_type": "code",
   "execution_count": 9,
   "id": "0c9321e0-1530-429f-851c-150dbbadfc02",
   "metadata": {},
   "outputs": [],
   "source": [
    "BatteryCyclerExperiment = aiida.plugins.CalculationFactory('aurora.cycler')\n",
    "code = load_code('ketchup@localhost')"
   ]
  },
  {
   "cell_type": "code",
   "execution_count": 10,
   "id": "6dd18b0f-5651-4567-84aa-5340b83592ba",
   "metadata": {},
   "outputs": [],
   "source": [
    "b = BatteryCyclerExperiment.get_builder()\n",
    "\n",
    "b.battery_sample = sample_node\n",
    "b.code = code\n",
    "b.technique = method_node\n",
    "# b.metadata.dry_run = True"
   ]
  },
  {
   "cell_type": "code",
   "execution_count": null,
   "id": "8d875329-c7a0-46ee-b511-cb150bd71eb0",
   "metadata": {},
   "outputs": [],
   "source": [
    "# exp = submit(b)"
   ]
  },
  {
   "cell_type": "markdown",
   "id": "2eb0344f-2fe5-4c23-ac66-f379cccb0b9d",
   "metadata": {
    "tags": []
   },
   "source": [
    "#### 3. Test Calc Monitor"
   ]
  },
  {
   "cell_type": "code",
   "execution_count": 11,
   "id": "19547a2f-50fb-4dd5-ad16-6a87be500fc9",
   "metadata": {},
   "outputs": [],
   "source": [
    "sample_node = load_node(31)  # 'fake_sample'\n",
    "method_node = load_node(134)  # 'dummy-sequential'\n",
    "settings_node = load_node(139)  # 'dummy-snapshot-10'"
   ]
  },
  {
   "cell_type": "code",
   "execution_count": 12,
   "id": "a7a5a730-1827-4e69-b3b1-d06f955019e7",
   "metadata": {},
   "outputs": [
    {
     "data": {
      "text/plain": [
       "{'output': {'path': None, 'prefix': None},\n",
       " 'snapshot': {'path': None, 'prefix': 'snapshot', 'frequency': 10},\n",
       " 'verbosity': 'WARNING',\n",
       " 'unlock_when_done': False}"
      ]
     },
     "execution_count": 12,
     "metadata": {},
     "output_type": "execute_result"
    }
   ],
   "source": [
    "settings_node.get_dict()"
   ]
  },
  {
   "cell_type": "code",
   "execution_count": 13,
   "id": "78b8cc3c-78c4-484a-ae7e-293f1899db7c",
   "metadata": {},
   "outputs": [],
   "source": [
    "DummyCycler = aiida.plugins.CalculationFactory('aurora.cycler')\n",
    "code = load_code('ketchup@localhost')"
   ]
  },
  {
   "cell_type": "code",
   "execution_count": 14,
   "id": "1d23537a-82dc-48ac-9c05-be887625f40b",
   "metadata": {},
   "outputs": [],
   "source": [
    "b = DummyCycler.get_builder()\n",
    "\n",
    "b.battery_sample = sample_node\n",
    "b.code = code\n",
    "b.technique = method_node\n",
    "b.control_settings = settings_node\n",
    "# b.metadata.dry_run = True"
   ]
  },
  {
   "cell_type": "code",
   "execution_count": 8,
   "id": "77a2438c-57a6-48b6-8459-21996720ba03",
   "metadata": {},
   "outputs": [
    {
     "name": "stderr",
     "output_type": "stream",
     "text": [
      "08/09/2022 04:51:47 PM <39418> aiida.engine.persistence: [DEBUG] Persisting process<191>\n",
      "08/09/2022 04:51:47 PM <39418> aiida.engine.persistence: [DEBUG] Persisting process<191>\n"
     ]
    }
   ],
   "source": [
    "exp = submit(b)"
   ]
  },
  {
   "cell_type": "code",
   "execution_count": null,
   "id": "99d26d3e-0e32-4759-ac6d-046f15c5a568",
   "metadata": {},
   "outputs": [],
   "source": []
  },
  {
   "cell_type": "code",
   "execution_count": 16,
   "id": "0aa040c3-56c5-46ca-ac4c-baa1b39a5d29",
   "metadata": {},
   "outputs": [],
   "source": [
    "ToymodelMonitor = aiida.plugins.DataFactory('calcmonitor.monitor.tomatodummy')\n",
    "monitor_protocol = ToymodelMonitor(dict={\n",
    "    'sources': {\n",
    "        'output': {'filepath': 'snapshot.json', 'refresh_rate': 10},\n",
    "    },\n",
    "    'options': {},\n",
    "    'retrieve': ['snapshot.json', 'snapshot.zip'],\n",
    "})\n",
    "MonitorCalcjob = aiida.plugins.CalculationFactory('calcmonitor.calcjob_monitor')\n",
    "monitor_builder = MonitorCalcjob.get_builder()\n",
    "monitor_builder.code = load_code('monitor@localhost-direct')\n",
    "monitor_builder.monitor_protocols = {'monitor1': monitor_protocol}"
   ]
  },
  {
   "cell_type": "code",
   "execution_count": 10,
   "id": "796b2d92-0c7f-481b-91a2-8c576d47e36b",
   "metadata": {},
   "outputs": [],
   "source": [
    "# exp = load_node(151)"
   ]
  },
  {
   "cell_type": "code",
   "execution_count": 11,
   "id": "3996d6d2-1aac-4ce2-8bd0-86807ebd94f9",
   "metadata": {},
   "outputs": [
    {
     "name": "stderr",
     "output_type": "stream",
     "text": [
      "08/09/2022 04:52:11 PM <39418> aiida.engine.persistence: [DEBUG] Persisting process<194>\n",
      "08/09/2022 04:52:11 PM <39418> aiida.engine.persistence: [DEBUG] Persisting process<194>\n"
     ]
    }
   ],
   "source": [
    "monitor_builder.monitor_folder = exp.outputs.remote_folder\n",
    "calcjob_node = submit(monitor_builder)"
   ]
  },
  {
   "cell_type": "code",
   "execution_count": null,
   "id": "61f3ef80-999a-4226-bc70-20afe36cadd5",
   "metadata": {},
   "outputs": [],
   "source": []
  },
  {
   "cell_type": "code",
   "execution_count": null,
   "id": "7cdec7c0-af56-4e8f-9185-ce77ff3d88bf",
   "metadata": {},
   "outputs": [],
   "source": []
  },
  {
   "cell_type": "markdown",
   "id": "c7109c87-cae1-492c-875c-1775d2e15ee6",
   "metadata": {
    "tags": []
   },
   "source": [
    "---\n",
    "#### A. convert schemas to tomato-compatible ones"
   ]
  },
  {
   "cell_type": "code",
   "execution_count": 20,
   "id": "94a8d789-d293-4949-a3ce-50ad9fc85e9c",
   "metadata": {},
   "outputs": [],
   "source": [
    "sample = w_main.selected_battery_sample\n",
    "method = w_main.selected_cycling_protocol"
   ]
  },
  {
   "cell_type": "code",
   "execution_count": 21,
   "id": "932e2183-4c36-4846-819e-de3b282052d2",
   "metadata": {},
   "outputs": [
    {
     "data": {
      "text/plain": [
       "{'manufacturer': 'Conrad energy',\n",
       " 'composition': {'description': 'Li-based'},\n",
       " 'form_factor': '2032',\n",
       " 'capacity': {'nominal': 45.0, 'actual': None, 'units': 'mAh'},\n",
       " 'battery_id': 2,\n",
       " 'metadata': {'name': 'commercial-2',\n",
       "  'creation_datetime': Timestamp('2022-06-28 05:59:00+0000', tz='UTC'),\n",
       "  'creation_process': 'Bought in a shop.'}}"
      ]
     },
     "execution_count": 21,
     "metadata": {},
     "output_type": "execute_result"
    }
   ],
   "source": [
    "sample.dict()"
   ]
  },
  {
   "cell_type": "code",
   "execution_count": 75,
   "id": "e125ad56-0900-4f13-be32-ad18940ed568",
   "metadata": {},
   "outputs": [
    {
     "name": "stdout",
     "output_type": "stream",
     "text": [
      "capacity: 0.045\n",
      "name: commercial-2\n",
      "\n"
     ]
    }
   ],
   "source": [
    "print(yaml.dump(aurora.schemas.tomato_0p1.sample.convert_batterysample_to_sample(sample).dict()))"
   ]
  },
  {
   "cell_type": "code",
   "execution_count": 22,
   "id": "7d7dd7fb-a50d-43da-a3eb-f8629318aa6a",
   "metadata": {
    "scrolled": true,
    "tags": []
   },
   "outputs": [
    {
     "data": {
      "text/plain": [
       "{'method': [{'device': 'worker',\n",
       "   'technique': 'open_circuit_voltage',\n",
       "   'short_name': 'OCV',\n",
       "   'name': 'OCV_1',\n",
       "   'description': 'Open circuit voltage',\n",
       "   'parameters': {'time': {'label': 'Time:',\n",
       "     'description': 'The length of the OCV step',\n",
       "     'units': 's',\n",
       "     'value': 22.0,\n",
       "     'default_value': 0.0,\n",
       "     'required': True},\n",
       "    'record_every_dt': {'label': 'Record every $dt$:',\n",
       "     'description': 'Record a datapoint at prescribed time spacing',\n",
       "     'units': 's',\n",
       "     'value': 30.0,\n",
       "     'default_value': 30.0,\n",
       "     'required': True},\n",
       "    'record_every_dE': {'label': 'Record every $dE$:',\n",
       "     'description': 'Record a datapoint at prescribed voltage spacing',\n",
       "     'units': 'V',\n",
       "     'value': 0.005,\n",
       "     'default_value': 0.005,\n",
       "     'required': True},\n",
       "    'I_range': {'label': 'I range',\n",
       "     'description': '',\n",
       "     'units': '',\n",
       "     'value': 'keep',\n",
       "     'default_value': 'keep',\n",
       "     'required': True},\n",
       "    'E_range': {'label': 'E range',\n",
       "     'description': '',\n",
       "     'units': '',\n",
       "     'value': 'auto',\n",
       "     'default_value': 'auto',\n",
       "     'required': True}}},\n",
       "  {'device': 'worker',\n",
       "   'technique': 'constant_current',\n",
       "   'short_name': 'CC',\n",
       "   'name': 'CC_1',\n",
       "   'description': 'Controlled current technique, with optional voltage and current limits',\n",
       "   'parameters': {'time': {'label': 'Time:',\n",
       "     'description': 'Maximum duration of the CC step',\n",
       "     'units': 's',\n",
       "     'value': 33.0,\n",
       "     'default_value': 0.0,\n",
       "     'required': True},\n",
       "    'current': {'label': 'Step current:',\n",
       "     'description': 'Current during the current step',\n",
       "     'units': 'I',\n",
       "     'value': 0.0,\n",
       "     'default_value': 0.0,\n",
       "     'required': True},\n",
       "    'record_every_dt': {'label': 'Record every $dt$:',\n",
       "     'description': 'Record a datapoint at prescribed time spacing',\n",
       "     'units': 's',\n",
       "     'value': 30.0,\n",
       "     'default_value': 30.0,\n",
       "     'required': True},\n",
       "    'record_every_dE': {'label': 'Record every $dE$:',\n",
       "     'description': 'Record a datapoint at prescribed voltage spacing',\n",
       "     'units': 'V',\n",
       "     'value': 0.001,\n",
       "     'default_value': 0.001,\n",
       "     'required': True},\n",
       "    'I_range': {'label': 'I range',\n",
       "     'description': 'Select the current range of the potentiostat',\n",
       "     'units': '',\n",
       "     'value': 'keep',\n",
       "     'default_value': 'keep',\n",
       "     'required': True},\n",
       "    'E_range': {'label': 'E range',\n",
       "     'description': 'Select the voltage range of the potentiostat',\n",
       "     'units': '',\n",
       "     'value': 'auto',\n",
       "     'default_value': 'auto',\n",
       "     'required': True},\n",
       "    'n_cycles': {'label': 'Number of cycles:',\n",
       "     'description': 'Cycle through the current technique N times.',\n",
       "     'units': '',\n",
       "     'value': 0,\n",
       "     'default_value': 0,\n",
       "     'required': True},\n",
       "    'is_delta': {'label': 'Δ$I$:',\n",
       "     'description': 'Is the step current a $\\\\Delta$ from previous step?',\n",
       "     'units': '',\n",
       "     'value': False,\n",
       "     'default_value': False,\n",
       "     'required': True},\n",
       "    'exit_on_limit': {'label': 'Exit when limits reached?',\n",
       "     'description': 'Stop the whole experiment when limit is reached?',\n",
       "     'units': '',\n",
       "     'value': False,\n",
       "     'default_value': False,\n",
       "     'required': True},\n",
       "    'limit_voltage_max': {'label': 'Maximum voltage:',\n",
       "     'description': 'Define the upper limit of voltage for this step',\n",
       "     'units': 'V',\n",
       "     'value': None,\n",
       "     'default_value': None,\n",
       "     'required': False},\n",
       "    'limit_voltage_min': {'label': 'Minimum voltage:',\n",
       "     'description': 'Define the lower limit of voltage for this step',\n",
       "     'units': 'V',\n",
       "     'value': None,\n",
       "     'default_value': None,\n",
       "     'required': False},\n",
       "    'limit_current_max': {'label': 'Maximum current:',\n",
       "     'description': 'Define the upper limit of current for this step',\n",
       "     'units': 'I',\n",
       "     'value': None,\n",
       "     'default_value': None,\n",
       "     'required': False},\n",
       "    'limit_current_min': {'label': 'Minimum current:',\n",
       "     'description': 'Define the lower limit of current for this step',\n",
       "     'units': 'I',\n",
       "     'value': None,\n",
       "     'default_value': None,\n",
       "     'required': False}}},\n",
       "  {'device': 'worker',\n",
       "   'technique': 'open_circuit_voltage',\n",
       "   'short_name': 'OCV',\n",
       "   'name': 'OCV_2',\n",
       "   'description': 'Open circuit voltage',\n",
       "   'parameters': {'time': {'label': 'Time:',\n",
       "     'description': 'The length of the OCV step',\n",
       "     'units': 's',\n",
       "     'value': None,\n",
       "     'default_value': 0.0,\n",
       "     'required': True},\n",
       "    'record_every_dt': {'label': 'Record every $dt$:',\n",
       "     'description': 'Record a datapoint at prescribed time spacing',\n",
       "     'units': 's',\n",
       "     'value': None,\n",
       "     'default_value': 30.0,\n",
       "     'required': True},\n",
       "    'record_every_dE': {'label': 'Record every $dE$:',\n",
       "     'description': 'Record a datapoint at prescribed voltage spacing',\n",
       "     'units': 'V',\n",
       "     'value': None,\n",
       "     'default_value': 0.005,\n",
       "     'required': True},\n",
       "    'I_range': {'label': 'I range',\n",
       "     'description': '',\n",
       "     'units': '',\n",
       "     'value': None,\n",
       "     'default_value': 'keep',\n",
       "     'required': True},\n",
       "    'E_range': {'label': 'E range',\n",
       "     'description': '',\n",
       "     'units': '',\n",
       "     'value': None,\n",
       "     'default_value': 'auto',\n",
       "     'required': True}}}]}"
      ]
     },
     "execution_count": 22,
     "metadata": {},
     "output_type": "execute_result"
    }
   ],
   "source": [
    "method.dict()"
   ]
  },
  {
   "cell_type": "code",
   "execution_count": 23,
   "id": "882e4498-6c78-4688-867a-1c958f1319bb",
   "metadata": {},
   "outputs": [
    {
     "name": "stdout",
     "output_type": "stream",
     "text": [
      "- E_range: auto\n",
      "  I_range: keep\n",
      "  device: worker\n",
      "  record_every_dE: 0.005\n",
      "  record_every_dt: 30.0\n",
      "  technique: open_circuit_voltage\n",
      "  time: 22.0\n",
      "- E_range: auto\n",
      "  I_range: keep\n",
      "  current: 0.0\n",
      "  device: worker\n",
      "  exit_on_limit: false\n",
      "  is_delta: false\n",
      "  n_cycles: 0\n",
      "  record_every_dE: 0.001\n",
      "  record_every_dt: 30.0\n",
      "  technique: constant_current\n",
      "  time: 33.0\n",
      "- device: worker\n",
      "  technique: open_circuit_voltage\n",
      "\n"
     ]
    }
   ],
   "source": [
    "print(yaml.dump([elem.dict() for elem in aurora.schemas.tomato_0p1.method.convert_electrochemsequence_to_method_list(method)]))"
   ]
  },
  {
   "cell_type": "code",
   "execution_count": 24,
   "id": "88e395a6-82d5-4dd8-bca6-b6eaceac5a9c",
   "metadata": {},
   "outputs": [
    {
     "name": "stdout",
     "output_type": "stream",
     "text": [
      "output:\n",
      "  path: null\n",
      "  prefix: ciao\n",
      "unlock_when_done: false\n",
      "verbosity: INFO\n",
      "\n"
     ]
    }
   ],
   "source": [
    "t = aurora.schemas.tomato_0p1.tomato.Tomato(**{'output': {'prefix': 'ciao'}})\n",
    "print(yaml.dump(t.dict()))"
   ]
  },
  {
   "cell_type": "code",
   "execution_count": 25,
   "id": "dcecf895-d2d0-4e8c-af97-a07194e7fc37",
   "metadata": {},
   "outputs": [
    {
     "data": {
      "text/plain": [
       "TomatoPayload(version='0.1', tomato=Tomato(unlock_when_done=False, verbosity='INFO', output=Output(path=None, prefix='ciao')), sample=Sample(name='commercial-2', capacity=0.045), method=[Method(device='worker', technique='open_circuit_voltage', record_every_dt=30.0, record_every_dE=0.005, I_range='keep', E_range='auto', time=22.0), Method(device='worker', technique='constant_current', n_cycles=0, I_range='keep', exit_on_limit=False, current=0.0, record_every_dt=30.0, record_every_dE=0.001, E_range='auto', time=33.0, is_delta=False), Method(device='worker', technique='open_circuit_voltage')])"
      ]
     },
     "execution_count": 25,
     "metadata": {},
     "output_type": "execute_result"
    }
   ],
   "source": [
    "a = aurora.schemas.tomato_0p1.TomatoPayload(\n",
    "    version = \"0.1\",\n",
    "    sample = aurora.schemas.tomato_0p1.sample.convert_batterysample_to_sample(sample.dict()),\n",
    "    method = aurora.schemas.tomato_0p1.method.convert_electrochemsequence_to_method_list(method.dict()),\n",
    "    tomato = aurora.schemas.tomato_0p1.tomato.Tomato(output={'prefix': 'ciao'})\n",
    ")\n",
    "a"
   ]
  },
  {
   "cell_type": "code",
   "execution_count": 27,
   "id": "e0c1e6b4-45a9-4fb9-a438-9dd14a1467f1",
   "metadata": {},
   "outputs": [
    {
     "name": "stdout",
     "output_type": "stream",
     "text": [
      "method:\n",
      "- E_range: auto\n",
      "  I_range: keep\n",
      "  device: worker\n",
      "  record_every_dE: 0.005\n",
      "  record_every_dt: 30.0\n",
      "  technique: open_circuit_voltage\n",
      "  time: 22.0\n",
      "- E_range: auto\n",
      "  I_range: keep\n",
      "  current: 0.0\n",
      "  device: worker\n",
      "  exit_on_limit: false\n",
      "  is_delta: false\n",
      "  n_cycles: 0\n",
      "  record_every_dE: 0.001\n",
      "  record_every_dt: 30.0\n",
      "  technique: constant_current\n",
      "  time: 33.0\n",
      "- device: worker\n",
      "  technique: open_circuit_voltage\n",
      "sample:\n",
      "  capacity: 0.045\n",
      "  name: commercial-2\n",
      "tomato:\n",
      "  output:\n",
      "    prefix: ciao\n",
      "  unlock_when_done: false\n",
      "  verbosity: INFO\n",
      "version: '0.1'\n",
      "\n"
     ]
    }
   ],
   "source": [
    "print(yaml.dump(a.dict()))"
   ]
  },
  {
   "cell_type": "markdown",
   "id": "2d163b90-7d6e-42e8-937a-f2c89e5b0d49",
   "metadata": {},
   "source": [
    "#### B. Parse output JSON file"
   ]
  },
  {
   "cell_type": "code",
   "execution_count": null,
   "id": "94813194-d337-47f6-ad60-bafe7e7e00e5",
   "metadata": {},
   "outputs": [],
   "source": []
  },
  {
   "cell_type": "code",
   "execution_count": 40,
   "id": "eac4e650-ba1c-4bf8-9071-656e21e6a5d1",
   "metadata": {},
   "outputs": [
    {
     "name": "stdout",
     "output_type": "stream",
     "text": [
      "dict_keys(['metadata', 'steps'])\n"
     ]
    }
   ],
   "source": [
    "with open('/home/lercole/src/Aurora/examples/plugin_test/results.38.json', 'r') as f:\n",
    "    data = json.load(f)\n",
    "print(data.keys())"
   ]
  },
  {
   "cell_type": "code",
   "execution_count": 41,
   "id": "1073de83-4aca-41c5-88c7-8903b4a13494",
   "metadata": {},
   "outputs": [
    {
     "name": "stdout",
     "output_type": "stream",
     "text": [
      "0 ['value']\n"
     ]
    }
   ],
   "source": [
    "n = aiida_aurora.parsers.TomatoParser.parse_tomato_results(data)"
   ]
  },
  {
   "cell_type": "code",
   "execution_count": 42,
   "id": "94a3e6fd-6953-4a9c-a823-5f043b656a73",
   "metadata": {
    "scrolled": true,
    "tags": []
   },
   "outputs": [
    {
     "name": "stdout",
     "output_type": "stream",
     "text": [
      "datagram_version: 4.1.0rc2\n",
      "date: '2022-07-05 09:22:25'\n",
      "input_schema:\n",
      "  metadata:\n",
      "    provenance:\n",
      "      metadata:\n",
      "        preset_provenance:\n",
      "          type: tomato\n",
      "      type: yadg preset\n",
      "    timezone: localtime\n",
      "    version: 4.1.1\n",
      "  steps:\n",
      "  - externaldate:\n",
      "      mode: add\n",
      "      using:\n",
      "        file:\n",
      "          match: uts\n",
      "          path: /scratch/lercole/AIIDA_SCRATCH/aurora/tomato/0.1rc11.post0.dev1/Jobs/38/worker_status.json\n",
      "          type: json\n",
      "    input:\n",
      "      contains: null\n",
      "      encoding: UTF-8\n",
      "      exclude: null\n",
      "      files:\n",
      "      - /scratch/lercole/AIIDA_SCRATCH/aurora/tomato/0.1rc11.post0.dev1/Jobs/38\n",
      "      prefix: worker\n",
      "      suffix: data.json\n",
      "    parameters:\n",
      "      filetype: tomato.json\n",
      "    parser: dummy\n",
      "    tag: worker\n",
      "provenance:\n",
      "  data:\n",
      "    archive: /home/lercole/src/Aurora/examples/plugin_test/results.38.zip\n",
      "    sha-1: 8d7f9c9cf95b3a922e715c9dfc338da75976c2c2\n",
      "  yadg:\n",
      "    command: /home/lercole/.virtualenvs/Aurora/bin/yadg preset -pa preset.38.json\n",
      "      /scratch/lercole/AIIDA_SCRATCH/aurora/tomato/0.1rc11.post0.dev1/Jobs/38 /home/lercole/src/Aurora/examples/plugin_test/results.38.json\n",
      "    version: '4.1'\n",
      "\n"
     ]
    }
   ],
   "source": [
    "print(yaml.dump(data['metadata']))"
   ]
  },
  {
   "cell_type": "code",
   "execution_count": 43,
   "id": "d36a5465-6c2c-4f71-8304-521c111b647d",
   "metadata": {},
   "outputs": [
    {
     "data": {
      "text/plain": [
       "[{'metadata': {'tag': 'worker', 'parser': 'dummy'},\n",
       "  'data': [{'uts': 1657012908.728301,\n",
       "    'fn': '/scratch/lercole/AIIDA_SCRATCH/aurora/tomato/0.1rc11.post0.dev1/Jobs/38/worker_2022-07-05T092149.739427+0000_data.json',\n",
       "    'raw': {'value': {'n': 0.09795002685345544, 's': 0.0, 'u': ' '}}},\n",
       "   {'uts': 1657012908.728301,\n",
       "    'fn': '/scratch/lercole/AIIDA_SCRATCH/aurora/tomato/0.1rc11.post0.dev1/Jobs/38/worker_2022-07-05T092149.739427+0000_data.json',\n",
       "    'raw': {'value': {'n': 0.11345391168432484, 's': 0.0, 'u': ' '}}},\n",
       "   {'uts': 1657012909.7284527,\n",
       "    'fn': '/scratch/lercole/AIIDA_SCRATCH/aurora/tomato/0.1rc11.post0.dev1/Jobs/38/worker_2022-07-05T092149.739427+0000_data.json',\n",
       "    'raw': {'value': {'n': 0.31839394507831287, 's': 0.0, 'u': ' '}}},\n",
       "   {'uts': 1657012910.7283015,\n",
       "    'fn': '/scratch/lercole/AIIDA_SCRATCH/aurora/tomato/0.1rc11.post0.dev1/Jobs/38/worker_2022-07-05T092150.743177+0000_data.json',\n",
       "    'raw': {'value': {'n': 0.5768880525131215, 's': 0.0, 'u': ' '}}},\n",
       "   {'uts': 1657012910.7286017,\n",
       "    'fn': '/scratch/lercole/AIIDA_SCRATCH/aurora/tomato/0.1rc11.post0.dev1/Jobs/38/worker_2022-07-05T092150.743177+0000_data.json',\n",
       "    'raw': {'value': {'n': 0.5671557221356596, 's': 0.0, 'u': ' '}}},\n",
       "   {'uts': 1657012911.7292695,\n",
       "    'fn': '/scratch/lercole/AIIDA_SCRATCH/aurora/tomato/0.1rc11.post0.dev1/Jobs/38/worker_2022-07-05T092151.745556+0000_data.json',\n",
       "    'raw': {'value': {'n': 0.47345149663020736, 's': 0.0, 'u': ' '}}},\n",
       "   {'uts': 1657012912.7284853,\n",
       "    'fn': '/scratch/lercole/AIIDA_SCRATCH/aurora/tomato/0.1rc11.post0.dev1/Jobs/38/worker_2022-07-05T092152.747835+0000_data.json',\n",
       "    'raw': {'value': {'n': 0.9056303020532381, 's': 0.0, 'u': ' '}}},\n",
       "   {'uts': 1657012912.7292683,\n",
       "    'fn': '/scratch/lercole/AIIDA_SCRATCH/aurora/tomato/0.1rc11.post0.dev1/Jobs/38/worker_2022-07-05T092152.747835+0000_data.json',\n",
       "    'raw': {'value': {'n': 0.1779676596145111, 's': 0.0, 'u': ' '}}},\n",
       "   {'uts': 1657012913.7287233,\n",
       "    'fn': '/scratch/lercole/AIIDA_SCRATCH/aurora/tomato/0.1rc11.post0.dev1/Jobs/38/worker_2022-07-05T092153.750131+0000_data.json',\n",
       "    'raw': {'value': {'n': 0.34243049142380655, 's': 0.0, 'u': ' '}}},\n",
       "   {'uts': 1657012914.7293012,\n",
       "    'fn': '/scratch/lercole/AIIDA_SCRATCH/aurora/tomato/0.1rc11.post0.dev1/Jobs/38/worker_2022-07-05T092154.751383+0000_data.json',\n",
       "    'raw': {'value': {'n': 0.6797684232150222, 's': 0.0, 'u': ' '}}},\n",
       "   {'uts': 1657012914.7287385,\n",
       "    'fn': '/scratch/lercole/AIIDA_SCRATCH/aurora/tomato/0.1rc11.post0.dev1/Jobs/38/worker_2022-07-05T092154.751383+0000_data.json',\n",
       "    'raw': {'value': {'n': 0.6635020468334445, 's': 0.0, 'u': ' '}}},\n",
       "   {'uts': 1657012915.7288318,\n",
       "    'fn': '/scratch/lercole/AIIDA_SCRATCH/aurora/tomato/0.1rc11.post0.dev1/Jobs/38/worker_2022-07-05T092155.753577+0000_data.json',\n",
       "    'raw': {'value': {'n': 0.2627713264323821, 's': 0.0, 'u': ' '}}},\n",
       "   {'uts': 1657012916.728323,\n",
       "    'fn': '/scratch/lercole/AIIDA_SCRATCH/aurora/tomato/0.1rc11.post0.dev1/Jobs/38/worker_2022-07-05T092156.755844+0000_data.json',\n",
       "    'raw': {'value': {'n': 0.8314251037625929, 's': 0.0, 'u': ' '}}},\n",
       "   {'uts': 1657012916.728855,\n",
       "    'fn': '/scratch/lercole/AIIDA_SCRATCH/aurora/tomato/0.1rc11.post0.dev1/Jobs/38/worker_2022-07-05T092156.755844+0000_data.json',\n",
       "    'raw': {'value': {'n': 0.20963584497354482, 's': 0.0, 'u': ' '}}},\n",
       "   {'uts': 1657012917.729196,\n",
       "    'fn': '/scratch/lercole/AIIDA_SCRATCH/aurora/tomato/0.1rc11.post0.dev1/Jobs/38/worker_2022-07-05T092157.758139+0000_data.json',\n",
       "    'raw': {'value': {'n': 0.465846394080208, 's': 0.0, 'u': ' '}}},\n",
       "   {'uts': 1657012918.7287753,\n",
       "    'fn': '/scratch/lercole/AIIDA_SCRATCH/aurora/tomato/0.1rc11.post0.dev1/Jobs/38/worker_2022-07-05T092158.760063+0000_data.json',\n",
       "    'raw': {'value': {'n': 0.3474028505046174, 's': 0.0, 'u': ' '}}},\n",
       "   {'uts': 1657012918.7284737,\n",
       "    'fn': '/scratch/lercole/AIIDA_SCRATCH/aurora/tomato/0.1rc11.post0.dev1/Jobs/38/worker_2022-07-05T092158.760063+0000_data.json',\n",
       "    'raw': {'value': {'n': 0.06678758227604864, 's': 0.0, 'u': ' '}}},\n",
       "   {'uts': 1657012919.7294028,\n",
       "    'fn': '/scratch/lercole/AIIDA_SCRATCH/aurora/tomato/0.1rc11.post0.dev1/Jobs/38/worker_2022-07-05T092159.797292+0000_data.json',\n",
       "    'raw': {'value': {'n': 0.3392989763022768, 's': 0.0, 'u': ' '}}},\n",
       "   {'uts': 1657012920.7290742,\n",
       "    'fn': '/scratch/lercole/AIIDA_SCRATCH/aurora/tomato/0.1rc11.post0.dev1/Jobs/38/worker_2022-07-05T092200.799345+0000_data.json',\n",
       "    'raw': {'value': {'n': 0.5545006383134279, 's': 0.0, 'u': ' '}}},\n",
       "   {'uts': 1657012920.7293148,\n",
       "    'fn': '/scratch/lercole/AIIDA_SCRATCH/aurora/tomato/0.1rc11.post0.dev1/Jobs/38/worker_2022-07-05T092200.799345+0000_data.json',\n",
       "    'raw': {'value': {'n': 0.7371603722753044, 's': 0.0, 'u': ' '}}},\n",
       "   {'uts': 1657012921.7290032,\n",
       "    'fn': '/scratch/lercole/AIIDA_SCRATCH/aurora/tomato/0.1rc11.post0.dev1/Jobs/38/worker_2022-07-05T092201.800752+0000_data.json',\n",
       "    'raw': {'value': {'n': 0.7671970981523326, 's': 0.0, 'u': ' '}}},\n",
       "   {'uts': 1657012922.7283058,\n",
       "    'fn': '/scratch/lercole/AIIDA_SCRATCH/aurora/tomato/0.1rc11.post0.dev1/Jobs/38/worker_2022-07-05T092202.803070+0000_data.json',\n",
       "    'raw': {'value': {'n': 0.7242657583126649, 's': 0.0, 'u': ' '}}},\n",
       "   {'uts': 1657012922.7285335,\n",
       "    'fn': '/scratch/lercole/AIIDA_SCRATCH/aurora/tomato/0.1rc11.post0.dev1/Jobs/38/worker_2022-07-05T092202.803070+0000_data.json',\n",
       "    'raw': {'value': {'n': 0.2513734068007576, 's': 0.0, 'u': ' '}}},\n",
       "   {'uts': 1657012923.728666,\n",
       "    'fn': '/scratch/lercole/AIIDA_SCRATCH/aurora/tomato/0.1rc11.post0.dev1/Jobs/38/worker_2022-07-05T092203.805434+0000_data.json',\n",
       "    'raw': {'value': {'n': 0.5605704282003596, 's': 0.0, 'u': ' '}}},\n",
       "   {'uts': 1657012924.7286427,\n",
       "    'fn': '/scratch/lercole/AIIDA_SCRATCH/aurora/tomato/0.1rc11.post0.dev1/Jobs/38/worker_2022-07-05T092204.828823+0000_data.json',\n",
       "    'raw': {'value': {'n': 0.04647469090136436, 's': 0.0, 'u': ' '}}},\n",
       "   {'uts': 1657012924.728892,\n",
       "    'fn': '/scratch/lercole/AIIDA_SCRATCH/aurora/tomato/0.1rc11.post0.dev1/Jobs/38/worker_2022-07-05T092204.828823+0000_data.json',\n",
       "    'raw': {'value': {'n': 0.07780117630316263, 's': 0.0, 'u': ' '}}},\n",
       "   {'uts': 1657012925.7293723,\n",
       "    'fn': '/scratch/lercole/AIIDA_SCRATCH/aurora/tomato/0.1rc11.post0.dev1/Jobs/38/worker_2022-07-05T092205.831245+0000_data.json',\n",
       "    'raw': {'value': {'n': 0.7997141049070937, 's': 0.0, 'u': ' '}}},\n",
       "   {'uts': 1657012926.7290823,\n",
       "    'fn': '/scratch/lercole/AIIDA_SCRATCH/aurora/tomato/0.1rc11.post0.dev1/Jobs/38/worker_2022-07-05T092206.833573+0000_data.json',\n",
       "    'raw': {'value': {'n': 0.3777268454760464, 's': 0.0, 'u': ' '}}},\n",
       "   {'uts': 1657012926.7286203,\n",
       "    'fn': '/scratch/lercole/AIIDA_SCRATCH/aurora/tomato/0.1rc11.post0.dev1/Jobs/38/worker_2022-07-05T092206.833573+0000_data.json',\n",
       "    'raw': {'value': {'n': 0.746725966311474, 's': 0.0, 'u': ' '}}},\n",
       "   {'uts': 1657012927.728551,\n",
       "    'fn': '/scratch/lercole/AIIDA_SCRATCH/aurora/tomato/0.1rc11.post0.dev1/Jobs/38/worker_2022-07-05T092207.835451+0000_data.json',\n",
       "    'raw': {'value': {'n': 0.8953002591767558, 's': 0.0, 'u': ' '}}},\n",
       "   {'uts': 1657012928.7283306,\n",
       "    'fn': '/scratch/lercole/AIIDA_SCRATCH/aurora/tomato/0.1rc11.post0.dev1/Jobs/38/worker_2022-07-05T092208.837756+0000_data.json',\n",
       "    'raw': {'value': {'n': 0.6757524267516535, 's': 0.0, 'u': ' '}}},\n",
       "   {'uts': 1657012930.7293906,\n",
       "    'fn': '/scratch/lercole/AIIDA_SCRATCH/aurora/tomato/0.1rc11.post0.dev1/Jobs/38/worker_2022-07-05T092210.946783+0000_data.json',\n",
       "    'raw': {'value': {'n': 0.2706600346154854, 's': 0.0, 'u': ' '}}},\n",
       "   {'uts': 1657012932.7285774,\n",
       "    'fn': '/scratch/lercole/AIIDA_SCRATCH/aurora/tomato/0.1rc11.post0.dev1/Jobs/38/worker_2022-07-05T092212.950649+0000_data.json',\n",
       "    'raw': {'value': {'n': 0.6930694101546222, 's': 0.0, 'u': ' '}}},\n",
       "   {'uts': 1657012934.729385,\n",
       "    'fn': '/scratch/lercole/AIIDA_SCRATCH/aurora/tomato/0.1rc11.post0.dev1/Jobs/38/worker_2022-07-05T092214.954574+0000_data.json',\n",
       "    'raw': {'value': {'n': 0.7555433714129388, 's': 0.0, 'u': ' '}}},\n",
       "   {'uts': 1657012936.729208,\n",
       "    'fn': '/scratch/lercole/AIIDA_SCRATCH/aurora/tomato/0.1rc11.post0.dev1/Jobs/38/worker_2022-07-05T092216.958402+0000_data.json',\n",
       "    'raw': {'value': {'n': 0.14452211013294924, 's': 0.0, 'u': ' '}}},\n",
       "   {'uts': 1657012938.7289853,\n",
       "    'fn': '/scratch/lercole/AIIDA_SCRATCH/aurora/tomato/0.1rc11.post0.dev1/Jobs/38/worker_2022-07-05T092218.962253+0000_data.json',\n",
       "    'raw': {'value': {'n': 0.26921367210406666, 's': 0.0, 'u': ' '}}},\n",
       "   {'uts': 1657012940.7293303,\n",
       "    'fn': '/scratch/lercole/AIIDA_SCRATCH/aurora/tomato/0.1rc11.post0.dev1/Jobs/38/worker_2022-07-05T092220.984438+0000_data.json',\n",
       "    'raw': {'value': {'n': 0.7466747494073476, 's': 0.0, 'u': ' '}}},\n",
       "   {'uts': 1657012942.7290506,\n",
       "    'fn': '/scratch/lercole/AIIDA_SCRATCH/aurora/tomato/0.1rc11.post0.dev1/Jobs/38/worker_2022-07-05T092223.088510+0000_data.json',\n",
       "    'raw': {'value': {'n': 0.13679966414456124, 's': 0.0, 'u': ' '}}}]}]"
      ]
     },
     "execution_count": 43,
     "metadata": {},
     "output_type": "execute_result"
    }
   ],
   "source": [
    "data['steps']"
   ]
  },
  {
   "cell_type": "code",
   "execution_count": 44,
   "id": "d5cc37fa-1347-4210-a9a5-317df1b28e61",
   "metadata": {},
   "outputs": [
    {
     "name": "stdout",
     "output_type": "stream",
     "text": [
      "0 ['value']\n"
     ]
    }
   ],
   "source": [
    "array_dic = {}\n",
    "for imstep, mstep in enumerate(data['steps']):  # method step\n",
    "    raw_qty_names = mstep['data'][0]['raw'].keys()\n",
    "    print(imstep, list(raw_qty_names))\n",
    "    for raw_qty_name in raw_qty_names:\n",
    "        for identifier in ('n', 's', 'u'):\n",
    "            array_dic[f'step{imstep}_{raw_qty_name}_{identifier}'] = np.array([step['raw'][raw_qty_name][identifier] for step in mstep['data']])\n",
    "    array_dic[f'step{imstep}_uts'] = np.array([step['uts'] for step in mstep['data']])"
   ]
  },
  {
   "cell_type": "code",
   "execution_count": null,
   "id": "67e7b5f0-b1c5-49e1-aa97-30eba7fc0fc6",
   "metadata": {},
   "outputs": [],
   "source": []
  },
  {
   "cell_type": "code",
   "execution_count": 47,
   "id": "f6982a46-1f12-4e96-9da1-75e3899b44e5",
   "metadata": {},
   "outputs": [
    {
     "data": {
      "text/plain": [
       "(38,)"
      ]
     },
     "execution_count": 47,
     "metadata": {},
     "output_type": "execute_result"
    }
   ],
   "source": [
    "array_dic['step0_value_n'].shape"
   ]
  },
  {
   "cell_type": "code",
   "execution_count": 114,
   "id": "41b75dc3-1b8b-45c3-9da1-0b4a450c4a33",
   "metadata": {},
   "outputs": [
    {
     "name": "stdout",
     "output_type": "stream",
     "text": [
      "step0_value_n [0.98944914 0.1499606  0.30144479 0.44437608 0.93691806 0.69036869]\n",
      "step0_value_s [0. 0. 0. 0. 0. 0.]\n",
      "step0_value_u [' ' ' ' ' ' ' ' ' ' ' ']\n",
      "step0_uts [1.65694972e+09 1.65694972e+09 1.65694973e+09 1.65694973e+09\n",
      " 1.65694974e+09 1.65694974e+09]\n"
     ]
    }
   ],
   "source": [
    "n = aiida.orm.ArrayData()\n",
    "for key, value in array_dic.items():\n",
    "    print(key,value)\n",
    "    n.set_array(key, value)\n",
    "n.set_attribute_many(data['metadata'])"
   ]
  },
  {
   "cell_type": "code",
   "execution_count": 115,
   "id": "9da9b027-aaf9-4f02-8e69-932e7aa958ca",
   "metadata": {},
   "outputs": [
    {
     "data": {
      "text/plain": [
       "{'array|step0_value_n': [6],\n",
       " 'array|step0_value_s': [6],\n",
       " 'array|step0_value_u': [6],\n",
       " 'array|step0_uts': [6],\n",
       " 'provenance': {'yadg': {'version': '4.1',\n",
       "   'command': '/home/lercole/.virtualenvs/Aurora/bin/yadg preset -pa preset.36.json /scratch/lercole/AIIDA_SCRATCH/aurora/tomato/0.1rc11.post0.dev1/Jobs/36 /scratch/lercole/AIIDA_SCRATCH/aurora/e8/d3/f106-0e40-4631-8bb0-78e41988c338/results.json'},\n",
       "  'data': {'sha-1': 'ebf91276f3ee629be0458621ab7a757e2d304c3c',\n",
       "   'archive': '/scratch/lercole/AIIDA_SCRATCH/aurora/e8/d3/f106-0e40-4631-8bb0-78e41988c338/results.zip'}},\n",
       " 'date': '2022-07-04 15:49:07',\n",
       " 'input_schema': {'metadata': {'provenance': {'type': 'yadg preset',\n",
       "    'metadata': {'preset_provenance': {'type': 'tomato'}}},\n",
       "   'version': '4.1.1',\n",
       "   'timezone': 'localtime'},\n",
       "  'steps': [{'parser': 'dummy',\n",
       "    'input': {'files': ['/scratch/lercole/AIIDA_SCRATCH/aurora/tomato/0.1rc11.post0.dev1/Jobs/36'],\n",
       "     'prefix': 'worker',\n",
       "     'suffix': 'data.json',\n",
       "     'contains': None,\n",
       "     'exclude': None,\n",
       "     'encoding': 'UTF-8'},\n",
       "    'parameters': {'filetype': 'tomato.json'},\n",
       "    'tag': 'worker',\n",
       "    'externaldate': {'using': {'file': {'path': '/scratch/lercole/AIIDA_SCRATCH/aurora/tomato/0.1rc11.post0.dev1/Jobs/36/worker_status.json',\n",
       "       'type': 'json',\n",
       "       'match': 'uts'}},\n",
       "     'mode': 'add'}}]},\n",
       " 'datagram_version': '4.1.0rc2'}"
      ]
     },
     "execution_count": 115,
     "metadata": {},
     "output_type": "execute_result"
    }
   ],
   "source": [
    "n.attributes"
   ]
  }
 ],
 "metadata": {
  "kernelspec": {
   "display_name": "Python 3 (ipykernel)",
   "language": "python",
   "name": "python3"
  },
  "language_info": {
   "codemirror_mode": {
    "name": "ipython",
    "version": 3
   },
   "file_extension": ".py",
   "mimetype": "text/x-python",
   "name": "python",
   "nbconvert_exporter": "python",
   "pygments_lexer": "ipython3",
   "version": "3.9.5"
  }
 },
 "nbformat": 4,
 "nbformat_minor": 5
}
