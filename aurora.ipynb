{
 "cells": [
  {
   "cell_type": "code",
   "execution_count": null,
   "metadata": {
    "vscode": {
     "languageId": "javascript"
    }
   },
   "outputs": [],
   "source": [
    "%%javascript\n",
    "\n",
    "IPython.OutputArea.prototype._should_scroll = function(lines) {\n",
    "    return false;\n",
    "}\n",
    "\n",
    "document.title='Aurora app'"
   ]
  },
  {
   "cell_type": "code",
   "execution_count": null,
   "metadata": {
    "vscode": {
     "languageId": "html"
    }
   },
   "outputs": [],
   "source": [
    "%%html\n",
    "\n",
    "<style>\n",
    "\n",
    ".output_subarea { \n",
    "    max-width:100% !important\n",
    "}\n",
    "\n",
    "#site { \n",
    "    overflow-y: scroll !important\n",
    "} \n",
    "\n",
    "</style>"
   ]
  },
  {
   "cell_type": "code",
   "execution_count": null,
   "metadata": {},
   "outputs": [],
   "source": [
    "%matplotlib widget"
   ]
  },
  {
   "cell_type": "code",
   "execution_count": null,
   "metadata": {},
   "outputs": [],
   "source": [
    "import ipywidgets as ipw\n",
    "from IPython.display import display"
   ]
  },
  {
   "cell_type": "code",
   "execution_count": null,
   "metadata": {},
   "outputs": [],
   "source": [
    "from aurora.interface.menus import MainPanel"
   ]
  },
  {
   "cell_type": "code",
   "execution_count": null,
   "metadata": {},
   "outputs": [],
   "source": [
    "w_main = MainPanel()"
   ]
  },
  {
   "cell_type": "code",
   "execution_count": null,
   "metadata": {},
   "outputs": [],
   "source": [
    "display(w_main)"
   ]
  },
  {
   "attachments": {},
   "cell_type": "markdown",
   "metadata": {},
   "source": [
    "***AURORA* Autonomous Robotic Battery Innovation Platform**  BIG-MAP Stakeholder Initiative 2021\n",
    "\n",
    "<table style=\"width: 40%; border-collapse: collapse; border-style: hidden; float: left;\">\n",
    "<tbody>\n",
    "<tr>\n",
    "<td style=\"width: 15%;\"><img src=\"img/BIG-MAP_logo.png\" alt=\"BIG-MAP\" style=\"margin: 2px\"/></td>\n",
    "<td style=\"width: 15%;\"><img src=\"img/Battery2030_logo.png\" alt=\"Battery 2030+\" style=\"margin: 2px\"/></td>\n",
    "<td style=\"width: 15%;\"><img src=\"img/EU_logo.png\" alt=\"European Commision\" style=\" margin: 2px\"/></td>\n",
    "<td style=\"width: 30%;\"><img src=\"img/Empa_logo.png\" alt=\"Empa\" style=\"margin: 2px\"/></td>\n",
    "<td style=\"width: 25%;\"><img src=\"img/EPFL_logo.png\" alt=\"EPFL\" style=\"margin: 2px\"/></td>\n",
    "</tr>\n",
    "</tbody>\n",
    "</table>\n"
   ]
  }
 ],
 "metadata": {
  "language_info": {
   "name": "python"
  },
  "orig_nbformat": 4
 },
 "nbformat": 4,
 "nbformat_minor": 2
}
