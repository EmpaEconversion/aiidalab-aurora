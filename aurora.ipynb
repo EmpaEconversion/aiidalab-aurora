{
 "cells": [
  {
   "cell_type": "code",
   "execution_count": null,
   "metadata": {
    "vscode": {
     "languageId": "javascript"
    }
   },
   "outputs": [],
   "source": [
    "%%javascript\n",
    "\n",
    "IPython.OutputArea.prototype._should_scroll = function(lines) {\n",
    "    return false;\n",
    "}\n",
    "\n",
    "document.title='Aurora app'\n"
   ]
  },
  {
   "cell_type": "code",
   "execution_count": null,
   "metadata": {
    "vscode": {
     "languageId": "html"
    }
   },
   "outputs": [],
   "source": [
    "%%html\n",
    "\n",
    "<style>\n",
    "  #site {\n",
    "    overflow-y: scroll !important;\n",
    "  }\n",
    "\n",
    "  .output_subarea {\n",
    "    max-width: 100% !important;\n",
    "  }\n",
    "\n",
    "  .select-monospace > select {\n",
    "    font-family: monospace;\n",
    "  }\n",
    "\n",
    "  .info-logo {\n",
    "    display: inline-flex;\n",
    "    width: 25px;\n",
    "    height: 25px;\n",
    "    border-radius: 50%;\n",
    "    background-color: white;\n",
    "    color: black;\n",
    "    font-size: 14px;\n",
    "    font-weight: bold;\n",
    "    justify-content: center;\n",
    "    align-items: center;\n",
    "  }\n",
    "</style>\n"
   ]
  },
  {
   "cell_type": "code",
   "execution_count": null,
   "metadata": {},
   "outputs": [],
   "source": [
    "%matplotlib widget\n"
   ]
  },
  {
   "cell_type": "code",
   "execution_count": null,
   "metadata": {},
   "outputs": [],
   "source": [
    "from IPython.display import display\n",
    "\n",
    "from aurora.main import MainPanel\n",
    "\n",
    "display(MainPanel())\n"
   ]
  },
  {
   "attachments": {},
   "cell_type": "markdown",
   "metadata": {},
   "source": [
    "***AURORA* Autonomous Robotic Battery Innovation Platform**  BIG-MAP Stakeholder Initiative 2021-2023\n",
    "\n",
    "<table style=\"width: 40%; border-collapse: collapse; border-style: hidden; float: left;\">\n",
    "<tbody>\n",
    "<tr>\n",
    "<td style=\"width: 15%;\"><img src=\"img/BIG-MAP_logo.png\" alt=\"BIG-MAP\" style=\"margin: 2px\"/></td>\n",
    "<td style=\"width: 15%;\"><img src=\"img/Battery2030_logo.png\" alt=\"Battery 2030+\" style=\"margin: 2px\"/></td>\n",
    "<td style=\"width: 15%;\"><img src=\"img/EU_logo.png\" alt=\"European Commision\" style=\" margin: 2px\"/></td>\n",
    "<td style=\"width: 30%;\"><img src=\"img/Empa_logo.png\" alt=\"Empa\" style=\"margin: 2px\"/></td>\n",
    "<td style=\"width: 25%;\"><img src=\"img/EPFL_logo.png\" alt=\"EPFL\" style=\"margin: 2px\"/></td>\n",
    "</tr>\n",
    "</tbody>\n",
    "</table>\n"
   ]
  }
 ],
 "metadata": {
  "kernelspec": {
   "display_name": "base",
   "language": "python",
   "name": "python3"
  },
  "language_info": {
   "name": "python",
   "version": "3.9.13"
  },
  "orig_nbformat": 4
 },
 "nbformat": 4,
 "nbformat_minor": 2
}
