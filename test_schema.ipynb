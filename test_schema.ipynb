{
 "cells": [
  {
   "cell_type": "code",
   "execution_count": 1,
   "id": "2f5cc366-9475-4b84-a23e-466e18f82663",
   "metadata": {},
   "outputs": [],
   "source": [
    "\n",
    "from typing import Type, TypedDict, Union, Optional\n",
    "from enum import Enum\n",
    "from datetime import datetime\n",
    "from pydantic import BaseModel, validator, root_validator\n",
    "\n",
    "class BatteryManufacturer(str, Enum):  # we may want to allow custom manufacturers\n",
    "    bigmap = 'BIG-MAP'\n",
    "    conrad = 'Conrad energy'\n",
    "    maxell = 'Maxell'\n",
    "\n",
    "class BatteryComposition(BaseModel):\n",
    "    description: str = None\n",
    "    cathode: str = None\n",
    "    anode: str = None\n",
    "    electrolyte: str = None\n",
    "    \n",
    "    # check that components are not specified if string description was specified\n",
    "    # build components from string description, or vice versa\n",
    "    @root_validator\n",
    "    def validate_composition(cls, values):\n",
    "        if values['description']:\n",
    "            if any([values[key] for key in ('cathode', 'anode', 'electrolyte')]):\n",
    "                raise ValueError(\"You cannot specify a 'description' and any component at the same time.\")\n",
    "            components = values['description'].split('|')\n",
    "            if len(components) == 3:\n",
    "                values['cathode'], values['electrolyte'], values['anode'] = components\n",
    "            else:\n",
    "                raise ValueError(\"Composition 'description' does not have 3 components (i.e. {cathode}|{electrolyte}|{anode}).\")\n",
    "        elif any([values[key] for key in ('cathode', 'anode', 'electrolyte')]):\n",
    "            values['description'] = f\"{values['cathode']}|{values['electrolyte']}|{values['anode']}\"\n",
    "        else:\n",
    "            raise ValueError(\"You must specify either a string 'description' or the components.\")\n",
    "        return values\n",
    "    \n",
    "class BatteryCapacity(TypedDict): # TypedDict?\n",
    "    nominal: float\n",
    "    actual: float\n",
    "\n",
    "class BatteryMetadata(BaseModel):\n",
    "    creation_datetime = datetime\n",
    "    creation_process = str\n",
    "    \n",
    "class BatterySpecs(BaseModel):\n",
    "    \"\"\"\n",
    "    Battery specification schema.\n",
    "    \"\"\"\n",
    "    manufacturer: BatteryManufacturer\n",
    "    composition: Type[BatteryComposition]\n",
    "    form_factor: Union[int, str]\n",
    "    capacity: Type[BatteryCapacity]\n",
    "    metadata: Type[BatteryMetadata]"
   ]
  },
  {
   "cell_type": "code",
   "execution_count": null,
   "id": "22b31176-efd2-4364-9950-7e8c9e6ca9d5",
   "metadata": {},
   "outputs": [],
   "source": []
  },
  {
   "cell_type": "code",
   "execution_count": 13,
   "id": "10b8104f-46d9-4136-8c17-344a45649022",
   "metadata": {},
   "outputs": [],
   "source": [
    "m = BatteryManufacturer.bigmap"
   ]
  },
  {
   "cell_type": "code",
   "execution_count": 56,
   "id": "05391836-0b95-47db-9f2a-4f35107c27eb",
   "metadata": {},
   "outputs": [
    {
     "data": {
      "text/plain": [
       "{'title': 'BatteryComposition',\n",
       " 'type': 'object',\n",
       " 'properties': {'description': {'title': 'Description', 'type': 'string'},\n",
       "  'cathode': {'title': 'Cathode', 'type': 'string'},\n",
       "  'anode': {'title': 'Anode', 'type': 'string'},\n",
       "  'electrolyte': {'title': 'Electrolyte', 'type': 'string'}},\n",
       " 'required': ['description']}"
      ]
     },
     "execution_count": 56,
     "metadata": {},
     "output_type": "execute_result"
    }
   ],
   "source": [
    "BatteryComposition.schema()"
   ]
  },
  {
   "cell_type": "code",
   "execution_count": 75,
   "id": "83fa9c56-cec9-4130-9e51-73d4a8e57c90",
   "metadata": {},
   "outputs": [
    {
     "name": "stdout",
     "output_type": "stream",
     "text": [
      "yes\n"
     ]
    }
   ],
   "source": [
    "if any([1, None]):\n",
    "    print('yes')"
   ]
  },
  {
   "cell_type": "code",
   "execution_count": 135,
   "id": "a951c00a-b911-44bb-af66-23959241dfbc",
   "metadata": {},
   "outputs": [],
   "source": [
    "comp = BatteryComposition(anode='A')"
   ]
  },
  {
   "cell_type": "code",
   "execution_count": 134,
   "id": "b3f0f19e-0125-4e41-b7f0-15421b21a8e7",
   "metadata": {},
   "outputs": [
    {
     "data": {
      "text/plain": [
       "{'anode': 'A'}"
      ]
     },
     "execution_count": 136,
     "metadata": {},
     "output_type": "execute_result"
    }
   ],
   "source": [
    "comp"
   ]
  },
  {
   "cell_type": "code",
   "execution_count": 16,
   "id": "36a0ad8f-a9dd-4377-8d00-2e4a4f320bc8",
   "metadata": {},
   "outputs": [
    {
     "data": {
      "text/plain": [
       "['Lio', 'Ciao', 'oxi']"
      ]
     },
     "execution_count": 16,
     "metadata": {},
     "output_type": "execute_result"
    }
   ],
   "source": []
  },
  {
   "cell_type": "code",
   "execution_count": 4,
   "id": "d92c78e5-03da-4936-8274-171f671b2f7b",
   "metadata": {},
   "outputs": [
    {
     "data": {
      "text/plain": [
       "[<enum 'BatteryManufacturer'>, str, <enum 'Enum'>, object]"
      ]
     },
     "execution_count": 4,
     "metadata": {},
     "output_type": "execute_result"
    }
   ],
   "source": [
    "BatteryManufacturer"
   ]
  },
  {
   "cell_type": "code",
   "execution_count": null,
   "id": "788a6ce0-c5f7-4fa8-bb2a-477aa960f4bd",
   "metadata": {},
   "outputs": [],
   "source": []
  },
  {
   "cell_type": "code",
   "execution_count": null,
   "id": "db52d023-c414-48f3-b5e7-3e77d8c14224",
   "metadata": {},
   "outputs": [],
   "source": []
  },
  {
   "cell_type": "markdown",
   "id": "eea64cba-bb7a-46ca-9698-3a265aea6151",
   "metadata": {},
   "source": [
    "## CYCLING"
   ]
  },
  {
   "cell_type": "code",
   "execution_count": 2,
   "id": "7d846c5b-3d3a-4d63-b599-3fbcdb1e89c8",
   "metadata": {},
   "outputs": [],
   "source": [
    "# -*- coding: utf-8 -*-\n",
    "\n",
    "from pydantic import (BaseModel, Extra, validator, validator, Field, NonNegativeFloat, NonNegativeInt)\n",
    "from typing import Dict, Generic, Sequence, TypeVar, Literal, Union\n",
    "from pydantic.generics import GenericModel\n",
    "from aurora.schemas.cycling import CyclingTechnique, CyclingParameter, allowed_E_ranges, allowed_I_ranges"
   ]
  },
  {
   "cell_type": "code",
   "execution_count": 3,
   "id": "8153f9f0-90e2-4850-b5ea-293a78e98f86",
   "metadata": {},
   "outputs": [],
   "source": [
    "class ConstantVoltage(CyclingTechnique, extra=Extra.forbid):\n",
    "    technique: Literal[\"constant_voltage\"] = \"constant_voltage\"\n",
    "    short_name: Literal[\"CV\"] = \"CV\"\n",
    "    name = \"CV\"\n",
    "    description = \"Controlled voltage technique, with optional current and voltage limits\"\n",
    "    parameters: Dict[str, CyclingParameter] = {\n",
    "        \"time\": CyclingParameter[NonNegativeFloat](\n",
    "            label = \"Time:\",\n",
    "            description = \"Maximum duration of the CV step\",\n",
    "            units = \"s\",\n",
    "            value = 0.0,\n",
    "            required = True,\n",
    "        ),\n",
    "        \"voltage\": CyclingParameter[float](\n",
    "            label = \"Step voltage:\",\n",
    "            description = \"Voltage of the current step\",\n",
    "            units = \"V\",\n",
    "            value = 0.0,\n",
    "            required = True,\n",
    "        ),\n",
    "        \"record_every_dt\": CyclingParameter[NonNegativeFloat](\n",
    "            label = \"Record every $dt$:\",\n",
    "            description = \"Record a datapoint at prescribed time spacing\",\n",
    "            units = \"s\",\n",
    "            value = 30.0\n",
    "        ),\n",
    "        \"record_every_dI\": CyclingParameter[NonNegativeFloat](\n",
    "            label = \"Record every $dI$:\",\n",
    "            description = \"Record a datapoint at prescribed current spacing\",\n",
    "            units = \"I\",\n",
    "            value = 0.001\n",
    "        ),\n",
    "        \"I_range\": CyclingParameter[allowed_I_ranges](\n",
    "            label = \"I range\",\n",
    "            description = \"Select the current range of the potentiostat\",\n",
    "            value = \"keep\"\n",
    "        ),\n",
    "        \"E_range\": CyclingParameter[allowed_E_ranges](\n",
    "            label = \"E range\",\n",
    "            description = \"Select the voltage range of the potentiostat\",\n",
    "            value = \"auto\"\n",
    "        ),\n",
    "        \"n_cycles\": CyclingParameter[NonNegativeInt](\n",
    "            label = \"Number of cycles:\",\n",
    "            description = \"Cycle through the current technique N times.\",\n",
    "            value = 0,\n",
    "        ),\n",
    "        \"is_delta\": CyclingParameter[bool](\n",
    "            label = \"$\\delta V$:\",\n",
    "            description = \"Is the step voltage a $\\delta$ from previous step?\",\n",
    "            value = False\n",
    "        ),\n",
    "        \"exit_on_limit\": CyclingParameter[bool](\n",
    "            label = \"Exit when limits reached?\",\n",
    "            description = \"Stop the whole experiment when limit is reached?\",\n",
    "            value = False\n",
    "        ),\n",
    "        \"limit_voltage_max\": CyclingParameter[float](\n",
    "            label = \"Maximum voltage:\",\n",
    "            description = \"Define the upper limit of voltage for this step\",\n",
    "            value = None\n",
    "        ),\n",
    "        \"limit_voltage_min\": CyclingParameter[float](\n",
    "            label = \"Minimum voltage:\",\n",
    "            description = \"Define the lower limit of voltage for this step\",\n",
    "            value = None\n",
    "        ),\n",
    "        \"limit_current_max\": CyclingParameter[Union[float, str]](\n",
    "            label = \"Maximum current:\",\n",
    "            description = \"Define the upper limit of current for this step\",\n",
    "            value = None\n",
    "        ),\n",
    "        \"limit_current_min\": CyclingParameter[Union[float, str]](\n",
    "            label = \"Minimum current:\",\n",
    "            description = \"Define the lower limit of current for this step\",\n",
    "            value = None\n",
    "        )\n",
    "    }"
   ]
  },
  {
   "cell_type": "code",
   "execution_count": 4,
   "id": "8ede0384-342a-48c6-95fe-3a99ba534a74",
   "metadata": {},
   "outputs": [],
   "source": [
    "t = ConstantVoltage(name='CV_1')\n",
    "# t1.parameters['time'].value = None"
   ]
  },
  {
   "cell_type": "code",
   "execution_count": 30,
   "id": "55ae1439-32aa-47ee-a482-2f7038f632e5",
   "metadata": {},
   "outputs": [
    {
     "data": {
      "text/plain": [
       "{'time': CyclingParameter[NonNegativeFloat](label='Time:', description='Maximum duration of the CV step', units='s', value=0.0, required=True),\n",
       " 'voltage': CyclingParameter[float](label='Step voltage:', description='Voltage of the current step', units='V', value=0.0, required=True),\n",
       " 'record_every_dt': CyclingParameter[NonNegativeFloat](label='Record every $dt$:', description='Record a datapoint at prescribed time spacing', units='s', value=30.0, required=False),\n",
       " 'record_every_dI': CyclingParameter[NonNegativeFloat](label='Record every $dI$:', description='Record a datapoint at prescribed current spacing', units='I', value=0.001, required=False),\n",
       " 'I_range': CyclingParameter[Literal['keep', '100 pA', '1 nA', '10 nA', '100 nA', '1 uA', '10 uA', '100 uA', '1 mA', '10 mA', '100 mA', '1 A', 'booster', 'auto']](label='I range', description='Select the current range of the potentiostat', units='', value='keep', required=False),\n",
       " 'E_range': CyclingParameter[Literal['+-2.5 V', '+-5.0 V', '+-10 V', 'auto']](label='E range', description='Select the voltage range of the potentiostat', units='', value='auto', required=False),\n",
       " 'n_cycles': CyclingParameter[NonNegativeInt](label='Number of cycles:', description='Cycle through the current technique N times.', units='', value=0, required=False),\n",
       " 'is_delta': CyclingParameter[bool](label='$\\\\delta V$:', description='Is the step voltage a $\\\\delta$ from previous step?', units='', value=False, required=False),\n",
       " 'exit_on_limit': CyclingParameter[bool](label='Exit when limits reached?', description='Stop the whole experiment when limit is reached?', units='', value=False, required=False),\n",
       " 'limit_voltage_max': CyclingParameter[float](label='Maximum voltage:', description='Define the upper limit of voltage for this step', units='', value=None, required=False),\n",
       " 'limit_voltage_min': CyclingParameter[float](label='Minimum voltage:', description='Define the lower limit of voltage for this step', units='', value=23.0, required=False),\n",
       " 'limit_current_max': CyclingParameter[Union[float, str]](label='Maximum current:', description='Define the upper limit of current for this step', units='', value=10.0, required=False),\n",
       " 'limit_current_min': CyclingParameter[Union[float, str]](label='Minimum current:', description='Define the lower limit of current for this step', units='', value=None, required=False)}"
      ]
     },
     "execution_count": 30,
     "metadata": {},
     "output_type": "execute_result"
    }
   ],
   "source": [
    "t.parameters"
   ]
  },
  {
   "cell_type": "code",
   "execution_count": 29,
   "id": "b76d4771-0abf-4c3d-a482-db025ce14ac2",
   "metadata": {},
   "outputs": [],
   "source": [
    "t.parameters['limit_current_max'].value = '10'"
   ]
  }
 ],
 "metadata": {
  "kernelspec": {
   "display_name": "Python 3 (ipykernel)",
   "language": "python",
   "name": "python3"
  },
  "language_info": {
   "codemirror_mode": {
    "name": "ipython",
    "version": 3
   },
   "file_extension": ".py",
   "mimetype": "text/x-python",
   "name": "python",
   "nbconvert_exporter": "python",
   "pygments_lexer": "ipython3",
   "version": "3.9.5"
  }
 },
 "nbformat": 4,
 "nbformat_minor": 5
}
