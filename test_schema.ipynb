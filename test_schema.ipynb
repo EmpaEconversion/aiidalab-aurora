{
 "cells": [
  {
   "cell_type": "code",
   "execution_count": 138,
   "id": "2f5cc366-9475-4b84-a23e-466e18f82663",
   "metadata": {},
   "outputs": [],
   "source": [
    "\n",
    "from typing import Type, TypedDict, Union, Optional\n",
    "from enum import Enum\n",
    "from datetime import datetime\n",
    "from pydantic import BaseModel, validator, root_validator\n",
    "\n",
    "class BatteryManufacturer(str, Enum):  # we may want to allow custom manufacturers\n",
    "    bigmap = 'BIG-MAP'\n",
    "    conrad = 'Conrad energy'\n",
    "    maxell = 'Maxell'\n",
    "\n",
    "class BatteryComposition(BaseModel):\n",
    "    description: str = None\n",
    "    cathode: str = None\n",
    "    anode: str = None\n",
    "    electrolyte: str = None\n",
    "    \n",
    "    # check that components are not specified if string description was specified\n",
    "    # build components from string description, or vice versa\n",
    "    @root_validator\n",
    "    def validate_composition(cls, values):\n",
    "        if values['description']:\n",
    "            if any([values[key] for key in ('cathode', 'anode', 'electrolyte')]):\n",
    "                raise ValueError(\"You cannot specify a 'description' and any component at the same time.\")\n",
    "            components = values['description'].split('|')\n",
    "            if len(components) == 3:\n",
    "                values['cathode'], values['electrolyte'], values['anode'] = components\n",
    "            else:\n",
    "                raise ValueError(\"Composition 'description' does not have 3 components (i.e. {cathode}|{electrolyte}|{anode}).\")\n",
    "        elif any([values[key] for key in ('cathode', 'anode', 'electrolyte')]):\n",
    "            values['description'] = f\"{values['cathode']}|{values['electrolyte']}|{values['anode']}\"\n",
    "        else:\n",
    "            raise ValueError(\"You must specify either a string 'description' or the components.\")\n",
    "        return values\n",
    "    \n",
    "class BatteryCapacity(TypedDict): # TypedDict?\n",
    "    nominal: float\n",
    "    actual: float\n",
    "\n",
    "class BatteryMetadata(BaseModel):\n",
    "    creation_datetime = datetime\n",
    "    creation_process = str\n",
    "    \n",
    "class BatterySpecs(BaseModel):\n",
    "    \"\"\"\n",
    "    Battery specification schema.\n",
    "    \"\"\"\n",
    "    manufacturer: BatteryManufacturer\n",
    "    composition: Type[BatteryComposition]\n",
    "    form_factor: Union[int, str]\n",
    "    capacity: Type[BatteryCapacity]\n",
    "    metadata: Type[BatteryMetadata]"
   ]
  },
  {
   "cell_type": "code",
   "execution_count": null,
   "id": "22b31176-efd2-4364-9950-7e8c9e6ca9d5",
   "metadata": {},
   "outputs": [],
   "source": []
  },
  {
   "cell_type": "code",
   "execution_count": 13,
   "id": "10b8104f-46d9-4136-8c17-344a45649022",
   "metadata": {},
   "outputs": [],
   "source": [
    "m = BatteryManufacturer.bigmap"
   ]
  },
  {
   "cell_type": "code",
   "execution_count": 56,
   "id": "05391836-0b95-47db-9f2a-4f35107c27eb",
   "metadata": {},
   "outputs": [
    {
     "data": {
      "text/plain": [
       "{'title': 'BatteryComposition',\n",
       " 'type': 'object',\n",
       " 'properties': {'description': {'title': 'Description', 'type': 'string'},\n",
       "  'cathode': {'title': 'Cathode', 'type': 'string'},\n",
       "  'anode': {'title': 'Anode', 'type': 'string'},\n",
       "  'electrolyte': {'title': 'Electrolyte', 'type': 'string'}},\n",
       " 'required': ['description']}"
      ]
     },
     "execution_count": 56,
     "metadata": {},
     "output_type": "execute_result"
    }
   ],
   "source": [
    "BatteryComposition.schema()"
   ]
  },
  {
   "cell_type": "code",
   "execution_count": 75,
   "id": "83fa9c56-cec9-4130-9e51-73d4a8e57c90",
   "metadata": {},
   "outputs": [
    {
     "name": "stdout",
     "output_type": "stream",
     "text": [
      "yes\n"
     ]
    }
   ],
   "source": [
    "if any([1, None]):\n",
    "    print('yes')"
   ]
  },
  {
   "cell_type": "code",
   "execution_count": 135,
   "id": "a951c00a-b911-44bb-af66-23959241dfbc",
   "metadata": {},
   "outputs": [],
   "source": [
    "comp = BatteryComposition(anode='A')"
   ]
  },
  {
   "cell_type": "code",
   "execution_count": 134,
   "id": "b3f0f19e-0125-4e41-b7f0-15421b21a8e7",
   "metadata": {},
   "outputs": [
    {
     "data": {
      "text/plain": [
       "{'anode': 'A'}"
      ]
     },
     "execution_count": 136,
     "metadata": {},
     "output_type": "execute_result"
    }
   ],
   "source": [
    "comp"
   ]
  },
  {
   "cell_type": "code",
   "execution_count": 16,
   "id": "36a0ad8f-a9dd-4377-8d00-2e4a4f320bc8",
   "metadata": {},
   "outputs": [
    {
     "data": {
      "text/plain": [
       "['Lio', 'Ciao', 'oxi']"
      ]
     },
     "execution_count": 16,
     "metadata": {},
     "output_type": "execute_result"
    }
   ],
   "source": []
  },
  {
   "cell_type": "code",
   "execution_count": 4,
   "id": "d92c78e5-03da-4936-8274-171f671b2f7b",
   "metadata": {},
   "outputs": [
    {
     "data": {
      "text/plain": [
       "[<enum 'BatteryManufacturer'>, str, <enum 'Enum'>, object]"
      ]
     },
     "execution_count": 4,
     "metadata": {},
     "output_type": "execute_result"
    }
   ],
   "source": [
    "BatteryManufacturer"
   ]
  }
 ],
 "metadata": {
  "kernelspec": {
   "display_name": "Python 3 (ipykernel)",
   "language": "python",
   "name": "python3"
  },
  "language_info": {
   "codemirror_mode": {
    "name": "ipython",
    "version": 3
   },
   "file_extension": ".py",
   "mimetype": "text/x-python",
   "name": "python",
   "nbconvert_exporter": "python",
   "pygments_lexer": "ipython3",
   "version": "3.8.10"
  }
 },
 "nbformat": 4,
 "nbformat_minor": 5
}
