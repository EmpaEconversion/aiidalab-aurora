{
 "cells": [
  {
   "cell_type": "code",
   "execution_count": 1,
   "id": "b9fa6a19-185c-4368-ae9b-1b019a6694dd",
   "metadata": {},
   "outputs": [],
   "source": [
    "import dlite"
   ]
  },
  {
   "cell_type": "code",
   "execution_count": 8,
   "id": "1ea7e8cc-b1bf-422f-a162-60b738a478de",
   "metadata": {},
   "outputs": [],
   "source": [
    "Model = dlite.Instance.from_location('json', './model.json')  # this is the schema/metadata"
   ]
  },
  {
   "cell_type": "code",
   "execution_count": 14,
   "id": "f6ac0f0c-9b9a-4c1f-b696-59d855a95501",
   "metadata": {},
   "outputs": [],
   "source": [
    "obj = Model()\n",
    "obj.manufacturer = \"Philips\""
   ]
  },
  {
   "cell_type": "code",
   "execution_count": 15,
   "id": "6147960c-8f6e-4cfb-a255-d3bad2f1dd12",
   "metadata": {},
   "outputs": [
    {
     "name": "stdout",
     "output_type": "stream",
     "text": [
      "{\n",
      "  \"uuid\": \"41573ef9-4c1a-4f97-9719-5d58138bf75d\",\n",
      "  \"meta\": \"http://address.to.big-map/meta/0.1/BatterySpecs\",\n",
      "  \"dimensions\": {},\n",
      "  \"properties\": {\n",
      "    \"manufacturer\": \"Philips\"\n",
      "  }\n",
      "}\n"
     ]
    }
   ],
   "source": [
    "print(obj)"
   ]
  },
  {
   "cell_type": "code",
   "execution_count": null,
   "id": "489e8982-b0a9-4a87-97a3-3fb8a67ba718",
   "metadata": {},
   "outputs": [],
   "source": []
  },
  {
   "cell_type": "code",
   "execution_count": 23,
   "id": "23f6e363-259d-41eb-887f-fdf169cba5cd",
   "metadata": {},
   "outputs": [],
   "source": [
    "col = dlite.Collection()"
   ]
  },
  {
   "cell_type": "code",
   "execution_count": 24,
   "id": "0ee69a52-a995-403b-adbc-df3d91c2f1f5",
   "metadata": {},
   "outputs": [],
   "source": [
    "col.add('myobj', obj)\n",
    "col.add_relation('myobj', 'mapsTo', 'http://iri.to.ontology')"
   ]
  },
  {
   "cell_type": "code",
   "execution_count": 25,
   "id": "c9931baf-d481-4cef-9e30-c1825b3eb5cf",
   "metadata": {},
   "outputs": [
    {
     "name": "stdout",
     "output_type": "stream",
     "text": [
      "{\n",
      "  \"uuid\": \"632e7a99-0426-4425-a06a-4e5a3f78c2fb\",\n",
      "  \"meta\": \"http://onto-ns.com/meta/0.1/Collection\",\n",
      "  \"dimensions\": {\n",
      "    \"nrelations\": 4\n",
      "  },\n",
      "  \"properties\": {\n",
      "    \"relations\": [\n",
      "      [\n",
      "        \"myobj\",\n",
      "        \"_is-a\",\n",
      "        \"Instance\"\n",
      "      ],\n",
      "      [\n",
      "        \"myobj\",\n",
      "        \"_has-uuid\",\n",
      "        \"41573ef9-4c1a-4f97-9719-5d58138bf75d\"\n",
      "      ],\n",
      "      [\n",
      "        \"myobj\",\n",
      "        \"_has-meta\",\n",
      "        \"http://address.to.big-map/meta/0.1/BatterySpecs\"\n",
      "      ],\n",
      "      [\n",
      "        \"myobj\",\n",
      "        \"mapsTo\",\n",
      "        \"http://iri.to.ontology\"\n",
      "      ]\n",
      "    ]\n",
      "  }\n",
      "}\n"
     ]
    }
   ],
   "source": [
    "print(col)"
   ]
  },
  {
   "cell_type": "code",
   "execution_count": 28,
   "id": "54a7820d-90c4-4d7c-88ab-e97a8c9a5298",
   "metadata": {},
   "outputs": [],
   "source": [
    "col.save('json', './new.json')"
   ]
  },
  {
   "cell_type": "code",
   "execution_count": null,
   "id": "03cbee6b-7391-46e6-b30f-93eacb1e5683",
   "metadata": {},
   "outputs": [],
   "source": []
  },
  {
   "cell_type": "markdown",
   "id": "01427ad5-93a3-4f46-adea-2d4e7b2a34e8",
   "metadata": {},
   "source": [
    "If I open a collection, the metadata is not part of it. \n",
    "If metadata is not found,\n",
    "\n",
    "`dlite.storage_path` needs to be set. "
   ]
  },
  {
   "cell_type": "code",
   "execution_count": 2,
   "id": "72c177ea-b290-424f-99ad-bd6e5fa95ea0",
   "metadata": {},
   "outputs": [],
   "source": [
    "dlite.storage_path.append('/home/lercole/src/Aurora/aurora-app/aurora/schemas/*.json')"
   ]
  },
  {
   "cell_type": "code",
   "execution_count": 5,
   "id": "efe38ed3-15f0-478c-b8da-411b6bc7ac10",
   "metadata": {},
   "outputs": [],
   "source": [
    "col = dlite.Instance.from_location('json', './new.json', id=\"632e7a99-0426-4425-a06a-4e5a3f78c2fb\")"
   ]
  },
  {
   "cell_type": "code",
   "execution_count": 7,
   "id": "52dee739-5c29-4b8d-b6e4-1aab0c5badd3",
   "metadata": {},
   "outputs": [
    {
     "name": "stdout",
     "output_type": "stream",
     "text": [
      "{\n",
      "  \"uuid\": \"632e7a99-0426-4425-a06a-4e5a3f78c2fb\",\n",
      "  \"meta\": \"http://onto-ns.com/meta/0.1/Collection\",\n",
      "  \"dimensions\": {\n",
      "    \"nrelations\": 4\n",
      "  },\n",
      "  \"properties\": {\n",
      "    \"relations\": [\n",
      "      [\n",
      "        \"myobj\",\n",
      "        \"_is-a\",\n",
      "        \"Instance\"\n",
      "      ],\n",
      "      [\n",
      "        \"myobj\",\n",
      "        \"_has-uuid\",\n",
      "        \"41573ef9-4c1a-4f97-9719-5d58138bf75d\"\n",
      "      ],\n",
      "      [\n",
      "        \"myobj\",\n",
      "        \"_has-meta\",\n",
      "        \"http://address.to.big-map/meta/0.1/BatterySpecs\"\n",
      "      ],\n",
      "      [\n",
      "        \"myobj\",\n",
      "        \"mapsTo\",\n",
      "        \"http://iri.to.ontology\"\n",
      "      ]\n",
      "    ]\n",
      "  }\n",
      "}\n"
     ]
    }
   ],
   "source": [
    "print(col)"
   ]
  },
  {
   "cell_type": "code",
   "execution_count": 8,
   "id": "aed4d7eb-4502-404c-9855-69226bfbc0c6",
   "metadata": {},
   "outputs": [
    {
     "data": {
      "text/plain": [
       "<Instance: uuid='41573ef9-4c1a-4f97-9719-5d58138bf75d'>"
      ]
     },
     "execution_count": 8,
     "metadata": {},
     "output_type": "execute_result"
    }
   ],
   "source": [
    "col['myobj']"
   ]
  },
  {
   "cell_type": "code",
   "execution_count": 11,
   "id": "d07188a2-8009-411f-b42a-b6f3df99c33e",
   "metadata": {},
   "outputs": [
    {
     "data": {
      "text/plain": [
       "['myobj']"
      ]
     },
     "execution_count": 11,
     "metadata": {},
     "output_type": "execute_result"
    }
   ],
   "source": [
    "list(col.get_labels())"
   ]
  }
 ],
 "metadata": {
  "kernelspec": {
   "display_name": "Python 3 (ipykernel)",
   "language": "python",
   "name": "python3"
  },
  "language_info": {
   "codemirror_mode": {
    "name": "ipython",
    "version": 3
   },
   "file_extension": ".py",
   "mimetype": "text/x-python",
   "name": "python",
   "nbconvert_exporter": "python",
   "pygments_lexer": "ipython3",
   "version": "3.9.5"
  }
 },
 "nbformat": 4,
 "nbformat_minor": 5
}
