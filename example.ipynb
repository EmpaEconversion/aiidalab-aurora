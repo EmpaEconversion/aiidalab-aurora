{
 "cells": [
  {
   "cell_type": "code",
   "execution_count": null,
   "metadata": {
    "scrolled": false
   },
   "outputs": [],
   "source": [
    "from aiidalab_widgets_base import OptimadeQueryWidget\n",
    "from aiidalab_widgets_base import StructureBrowserWidget\n",
    "from aiidalab_widgets_base import StructureManagerWidget\n",
    "from aiidalab_widgets_base import StructureUploadWidget\n",
    "\n",
    "\n",
    "# Create the application steps\n",
    "structure_manager_widget = StructureManagerWidget(\n",
    "    importers=[\n",
    "        StructureUploadWidget(title=\"From computer\"),\n",
    "        OptimadeQueryWidget(embedded=True),\n",
    "        StructureBrowserWidget(title=\"AiiDA database\"),\n",
    "    ],\n",
    "    node_class='StructureData',\n",
    ")\n",
    "\n",
    "\n",
    "display(structure_manager_widget)"
   ]
  }
 ],
 "metadata": {
  "kernelspec": {
   "display_name": "Python 3 (ipykernel)",
   "language": "python",
   "name": "python3"
  },
  "language_info": {
   "codemirror_mode": {
    "name": "ipython",
    "version": 3
   },
   "file_extension": ".py",
   "mimetype": "text/x-python",
   "name": "python",
   "nbconvert_exporter": "python",
   "pygments_lexer": "ipython3",
   "version": "3.8.10"
  }
 },
 "nbformat": 4,
 "nbformat_minor": 2
}
