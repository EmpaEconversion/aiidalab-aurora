{
 "cells": [
  {
   "cell_type": "markdown",
   "metadata": {},
   "source": [
    "The following script will walk through all the files in the `SOURCE` folder.\n",
    "\n",
    "The files are sorted with the assumption that filenames are in a form similar to `###-5_###.json`, where `5` is the sample id (out of 36).\n",
    "\n",
    "- Point `SOURCE` to the root of JSON results folder tree\n",
    "- Point `SPECS_DIR` to root of battery specs (robot output) folder tree"
   ]
  },
  {
   "cell_type": "code",
   "execution_count": null,
   "metadata": {},
   "outputs": [],
   "source": [
    "from aiida.manage.configuration import load_profile\n",
    "from results_importer import *\n",
    "\n",
    "load_profile()"
   ]
  },
  {
   "cell_type": "code",
   "execution_count": null,
   "metadata": {},
   "outputs": [],
   "source": [
    "SOURCE = \"/home/jovyan/data_files/EC_data\"\n",
    "SPECS_DIR = \"/home/jovyan/data_files/battery_specs\""
   ]
  },
  {
   "cell_type": "code",
   "execution_count": null,
   "metadata": {},
   "outputs": [],
   "source": [
    "from os import walk\n",
    "\n",
    "for root, dirname, filenames in walk(SOURCE):\n",
    "    \n",
    "    # uncomment if JSON files are split into subdirectories under `SOURCE`\n",
    "    # if root == SOURCE:\n",
    "    #     continue\n",
    "    \n",
    "    batch_name = root.split(\"/\")[-1]\n",
    "    specs = read_batch_specs(f\"{SPECS_DIR}/{batch_name}\")\n",
    "    \n",
    "    # The `print` statement is here to verify that the filenames are fetched\n",
    "    # (the code will attempt to sort them in natural order, but will use the\n",
    "    # unordered filenames if sorting fails)\n",
    "    \n",
    "    c_date = datetime.now(TZ).strftime(r\"%y%m%d-%H%M%S\")\n",
    "    \n",
    "    for filename in natural_sort(filenames):\n",
    "        print(filename)  #* sanity check\n",
    "        # load_ec_lab_experiment_into_aiida(f\"{root}/{filename}\", specs, c_date)"
   ]
  },
  {
   "cell_type": "code",
   "execution_count": null,
   "metadata": {},
   "outputs": [],
   "source": []
  }
 ],
 "metadata": {
  "kernelspec": {
   "display_name": "base",
   "language": "python",
   "name": "python3"
  },
  "language_info": {
   "codemirror_mode": {
    "name": "ipython",
    "version": 3
   },
   "file_extension": ".py",
   "mimetype": "text/x-python",
   "name": "python",
   "nbconvert_exporter": "python",
   "pygments_lexer": "ipython3",
   "version": "3.9.13"
  },
  "orig_nbformat": 4
 },
 "nbformat": 4,
 "nbformat_minor": 2
}
